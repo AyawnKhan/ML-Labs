{
 "cells": [
  {
   "cell_type": "markdown",
   "id": "0c2eed2d",
   "metadata": {},
   "source": [
    "# Lab One: Exploring Table Data\n",
    "\n",
    "***Ayan Khan, Anika Saiprabhu, Victoria Valdez***"
   ]
  },
  {
   "cell_type": "markdown",
   "id": "79fbaa96",
   "metadata": {},
   "source": [
    "# 1. Business Understanding\n"
   ]
  },
  {
   "cell_type": "markdown",
   "id": "a9b981ef",
   "metadata": {},
   "source": [
    "Educational policy aims to ensure that all students are able to succeed in their respective academic environments. In order to help their rankings, universities attempt to maximize graduation rates and retention rates while minimizing dropouts.\n",
    "\n",
    "Towards this end, it becoems important for universities to understand the factors at play that may affect student success and retention in order to best address the needs of students most at risk of dropping out. \n",
    "\n",
    "\n",
    "We chose a dataset from the UCI ML repository regarding student success rates. This dataset has 4424 instances and 36 features, including numerical and categorical data.\n",
    "- Dataset: UCI Machine Learning Repository - Student Dropout and Academic Success \n",
    "\n",
    "- *URL: https://archive.ics.uci.edu/dataset/697/predict+students+dropout+and+academic+success*\n"
   ]
  },
  {
   "cell_type": "markdown",
   "id": "66feb893",
   "metadata": {},
   "source": [
    "By understanding the different factors that affect a student's success, schools can pass policy that will best support students most at risk for failing or dropping out. By understanding the factors at play, universities can proactively pass policies aimed at recruitment, retention, and support both before and after admittance. \n",
    "\n",
    "This would help both students in their academic journey and universities attempting to raise their rankings."
   ]
  },
  {
   "cell_type": "markdown",
   "id": "0eeb4436",
   "metadata": {},
   "source": [
    "# 2. Data Understanding"
   ]
  },
  {
   "cell_type": "markdown",
   "id": "e4048e89",
   "metadata": {},
   "source": [
    "We first imported the data itself from the attached csv. The variable data was downloaded directly from the UCI Machine Learning repository."
   ]
  },
  {
   "cell_type": "markdown",
   "id": "a437733c",
   "metadata": {},
   "source": [
    "### 2.1. Data set"
   ]
  },
  {
   "cell_type": "code",
   "execution_count": null,
   "id": "d6c53338",
   "metadata": {},
   "outputs": [],
   "source": [
    "# importing data \n",
    "import pandas as pd\n",
    "import numpy as np \n",
    "import seaborn as sb\n",
    "import matplotlib.pyplot as plt\n",
    "\n",
    "df = pd.read_csv('data.csv', sep=';')\n",
    "df.head()"
   ]
  },
  {
   "cell_type": "markdown",
   "id": "162e08ef",
   "metadata": {},
   "source": [
    "### 2.2 Data Information and Data Types:\n",
    "\n",
    "*The data information and data types from the original dataset are as listed above.*\n",
    "\n",
    "For the most part, it would be best to represent each data attribute the way it's listed, but the \n",
    "following attributes would benefit from using a different data type:  \n",
    "* Course: string instead of int  \n",
    "* Nationality: string instead of int\n",
    "\n",
    "For these variables, it would be best to work with them as integers, but they are thought of as booleans:\n",
    "   * Displaced, Educational special needs, Debtor, Tuition fees up to date, Scholarship holder, International\n",
    "\n",
    "The following data attributes will not contribute meaninfully to our analysis:\n",
    "   * Application mode, Application order, Admission grade, Previous qualification (grade)"
   ]
  },
  {
   "cell_type": "code",
   "execution_count": null,
   "id": "28d4eaea",
   "metadata": {},
   "outputs": [],
   "source": [
    "from ucimlrepo import fetch_ucirepo \n",
    "  \n",
    "# fetch dataset from UCI repo\n",
    "predict_students_dropout_and_academic_success = fetch_ucirepo(id=697) \n",
    " \n",
    "# variable information \n",
    "df_var = predict_students_dropout_and_academic_success.variables\n",
    "df_var"
   ]
  },
  {
   "cell_type": "code",
   "execution_count": null,
   "id": "c7f0d1b3",
   "metadata": {},
   "outputs": [],
   "source": [
    "print(df.dtypes)"
   ]
  },
  {
   "cell_type": "markdown",
   "id": "0d7aa270",
   "metadata": {},
   "source": [
    "#### Variable Descriptions:\n",
    "\n",
    "**Marital status:** \n",
    "\n",
    "- 1 – single 2 – married 3 – widower 4 – divorced 5 – facto union 6 – legally separated\n",
    "\n",
    "**Application mode:** \n",
    "\n",
    "- 1 - 1st phase - general contingent 2 - Ordinance No. 612/93 5 - 1st phase - special contingent (Azores Island) 7 - Holders of other higher courses 10 - Ordinance No. 854-B/99 15 - International student (bachelor) 16 - 1st phase - special contingent (Madeira Island) 17 - 2nd phase - general contingent 18 - 3rd phase - general contingent 26 - Ordinance No. 533-A/99, item b2) (Different Plan) 27 - Ordinance No. 533-A/99, item b3 (Other Institution) 39 - Over 23 years old 42 - Transfer 43 - Change of course 44 - Technological specialization diploma holders 51 - Change of institution/course 53 - Short cycle diploma holders 57 - Change of institution/course (International)\n",
    "\n",
    "**Application order:**\n",
    "\n",
    "- Application order (between 0 - first choice; and 9 last choice)\n",
    "\n",
    "\n",
    "**Course:** \n",
    "\n",
    "- 33 - Biofuel Production Technologies 171 - Animation and Multimedia Design 8014 - Social Service (evening attendance) 9003 - Agronomy 9070 - Communication Design 9085 - Veterinary Nursing 9119 - Informatics Engineering 9130 - Equinculture 9147 - Management 9238 - Social Service 9254 - Tourism 9500 - Nursing 9556 - Oral Hygiene 9670 - Advertising and Marketing Management 9773 - Journalism and Communication 9853 - Basic Education 9991 - Management (evening attendance)\n",
    "\n",
    "**Daytime/evening attendance:** \n",
    "\n",
    "- 1 – daytime 0 - evening\n",
    "\n",
    "**Previous qualification:**\n",
    "\n",
    " - 1 - Secondary education 2 - Higher education - bachelor's degree 3 - Higher education - degree 4 - Higher education - master's 5 - Higher education - doctorate 6 - Frequency of higher education 9 - 12th year of schooling - not completed 10 - 11th year of schooling - not completed 12 - Other - 11th year of schooling 14 - 10th year of schooling 15 - 10th year of schooling - not completed 19 - Basic education 3rd cycle (9th/10th/11th year) or equiv. 38 - Basic education 2nd cycle (6th/7th/8th year) or equiv. 39 - Technological specialization course 40 - Higher education - degree (1st cycle) 42 - Professional higher technical course 43 - Higher education - master (2nd cycle)\n",
    "\n",
    "**Previous qualification (grade):** \n",
    "\n",
    "- Grade of previous qualification (between 0 and 200)\n",
    "\n",
    "**Nationality:** \n",
    "\n",
    "- 1 - Portuguese; 2 - German; 6 - Spanish; 11 - Italian; 13 - Dutch; 14 - English; 17 - Lithuanian; 21 - Angolan; 22 - Cape Verdean; 24 - Guinean; 25 - Mozambican; 26 - Santomean; 32 - Turkish; 41 - Brazilian; 62 - Romanian; 100 - Moldova (Republic of); 101 - Mexican; 103 - Ukrainian; 105 - Russian; 108 - Cuban; 109 - Colombian\n",
    "\n",
    "**Mother's qualification:**\n",
    "\n",
    " - 1 - Secondary Education - 12th Year of Schooling or Eq. 2 - Higher Education - Bachelor's Degree 3 - Higher Education - Degree 4 - Higher Education - Master's 5 - Higher Education - Doctorate 6 - Frequency of Higher Education 9 - 12th Year of Schooling - Not Completed 10 - 11th Year of Schooling - Not Completed 11 - 7th Year (Old) 12 - Other - 11th Year of Schooling 14 - 10th Year of Schooling 18 - General commerce course 19 - Basic Education 3rd Cycle (9th/10th/11th Year) or Equiv. 22 - Technical-professional course 26 - 7th year of schooling 27 - 2nd cycle of the general high school course 29 - 9th Year of Schooling - Not Completed 30 - 8th year of schooling 34 - Unknown 35 - Can't read or write 36 - Can read without having a 4th year of schooling 37 - Basic education 1st cycle (4th/5th year) or equiv. 38 - Basic Education 2nd Cycle (6th/7th/8th Year) or Equiv. 39 - Technological specialization course 40 - Higher education - degree (1st cycle) 41 - Specialized higher studies course 42 - Professional higher technical course 43 - Higher Education - Master (2nd cycle) 44 - Higher Education - Doctorate (3rd cycle)\n",
    "\n",
    "**Father's qualification:**\n",
    "\n",
    " - 1 - Secondary Education - 12th Year of Schooling or Eq. 2 - Higher Education - Bachelor's Degree 3 - Higher Education - Degree 4 - Higher Education - Master's 5 - Higher Education - Doctorate 6 - Frequency of Higher Education 9 - 12th Year of Schooling - Not Completed 10 - 11th Year of Schooling - Not Completed 11 - 7th Year (Old) 12 - Other - 11th Year of Schooling 14 - 10th Year of Schooling 18 - General commerce course 19 - Basic Education 3rd Cycle (9th/10th/11th Year) or Equiv. 22 - Technical-professional course 26 - 7th year of schooling 27 - 2nd cycle of the general high school course 29 - 9th Year of Schooling - Not Completed 30 - 8th year of schooling 34 - Unknown 35 - Can't read or write 36 - Can read without having a 4th year of schooling 37 - Basic education 1st cycle (4th/5th year) or equiv. 38 - Basic Education 2nd Cycle (6th/7th/8th Year) or Equiv. 39 - Technological specialization course 40 - Higher education - degree (1st cycle) 41 - Specialized higher studies course 42 - Professional higher technical course 43 - Higher Education - Master (2nd cycle) 44 - Higher Education - Doctorate (3rd cycle)\n",
    "\n",
    "**Mother's occupation:**\n",
    "\n",
    " - 0 - Student 1 - Representatives of the Legislative Power and Executive Bodies, Directors, Directors and Executive Managers 2 - Specialists in Intellectual and Scientific Activities 3 - Intermediate Level Technicians and Professions 4 - Administrative staff 5 - Personal Services, Security and Safety Workers and Sellers 6 - Farmers and Skilled Workers in Agriculture, Fisheries and Forestry 7 - Skilled Workers in Industry, Construction and Craftsmen 8 - Installation and Machine Operators and Assembly Workers 9 - Unskilled Workers 10 - Armed Forces Professions 90 - Other Situation 99 - (blank) 122 - Health professionals 123 - teachers 125 - Specialists in information and communication technologies (ICT) 131 - Intermediate level science and engineering technicians and professions 132 - Technicians and professionals, of intermediate level of health 134 - Intermediate level technicians from legal, social, sports, cultural and similar services 141 - Office workers, secretaries in general and data processing operators 143 - Data, accounting, statistical, financial services and registry-related operators 144 - Other administrative support staff 151 - personal service workers 152 - sellers 153 - Personal care workers and the like 171 - Skilled construction workers and the like, except electricians 173 - Skilled workers in printing, precision instrument manufacturing, jewelers, artisans and the like 175 - Workers in food processing, woodworking, clothing and other industries and crafts 191 - cleaning workers 192 - Unskilled workers in agriculture, animal production, fisheries and forestry 193 - Unskilled workers in extractive industry, construction, manufacturing and transport 194 - Meal preparation assistants\n",
    "\n",
    "**Father's occupation:**\n",
    "\n",
    " - 0 - Student 1 - Representatives of the Legislative Power and Executive Bodies, Directors, Directors and Executive Managers 2 - Specialists in Intellectual and Scientific Activities 3 - Intermediate Level Technicians and Professions 4 - Administrative staff 5 - Personal Services, Security and Safety Workers and Sellers 6 - Farmers and Skilled Workers in Agriculture, Fisheries and Forestry 7 - Skilled Workers in Industry, Construction and Craftsmen 8 - Installation and Machine Operators and Assembly Workers 9 - Unskilled Workers 10 - Armed Forces Professions 90 - Other Situation 99 - (blank) 122 - Health professionals 123 - teachers 125 - Specialists in information and communication technologies (ICT) 131 - Intermediate level science and engineering technicians and professions 132 - Technicians and professionals, of intermediate level of health 134 - Intermediate level technicians from legal, social, sports, cultural and similar services 141 - Office workers, secretaries in general and data processing operators 143 - Data, accounting, statistical, financial services and registry-related operators 144 - Other administrative support staff 151 - personal service workers 152 - sellers 153 - Personal care workers and the like 171 - Skilled construction workers and the like, except electricians 173 - Skilled workers in printing, precision instrument manufacturing, jewelers, artisans and the like 175 - Workers in food processing, woodworking, clothing and other industries and crafts 191 - cleaning workers 192 - Unskilled workers in agriculture, animal production, fisheries and forestry 193 - Unskilled workers in extractive industry, construction, manufacturing and transport 194 - Meal preparation assistants\n",
    "\n",
    "**Admission grade:** Admission grade (between 0 and 200)\n",
    "\n",
    "**Displaced:** 1 – yes 0 – no\n",
    "\n",
    "**Educational special needs:** 1 – yes 0 – no\n",
    "\n",
    "**Debtor:** 1 – yes 0 – no\n",
    "\n",
    "**Tuition fees up to date:** 1 – yes 0 – no\n",
    "\n",
    "**Gender:** 1 – male 0 – female\n",
    "\n",
    "**Scholarship holder:** 1 – yes 0 – no\n",
    "\n",
    "**Age at enrollment:** Age of studend at enrollment\n",
    "\n",
    "**International:** 1 – yes 0 – no\n",
    "\n",
    "**Curricular units 1st sem (credited):** Number of curricular units credited in the 1st semester\n",
    "\n",
    "**Curricular units 1st sem (enrolled):** Number of curricular units enrolled in the 1st semester\n",
    "\n",
    "**Curricular units 1st sem (evaluations):** Number of evaluations to curricular units in the 1st semester\n",
    "\n",
    "**Curricular units 1st sem (approved):** Number of curricular units approved in the 1st semester\t\n",
    "\n",
    "**Curricular units 1st sem (grade):** Grade average in the 1st semester (between 0 and 20)\n",
    "\n",
    "**Curricular units 1st sem (without evaluations):** Number of curricular units without evalutions in the 1st semester\n",
    "\n",
    "**Curricular units 2nd sem (credited):** Number of curricular units credited in the 2nd semester\t\n",
    "\n",
    "**Curricular units 2nd sem (enrolled):** Number of curricular units enrolled in the 2nd semester\t\n",
    "\n",
    "**Curricular units 2nd sem (evaluations):** Number of evaluations to curricular units in the 2nd semester\n",
    "\n",
    "**Curricular units 2nd sem (approved):** Number of curricular units approved in the 2nd semester\t\n",
    "\n",
    "**Curricular units 2nd sem (grade):** Grade average in the 2nd semester (between 0 and 20)\t\n",
    "\n",
    "**Curricular units 2nd sem (without evaluations):** Number of curricular units without evalutions in the 1st semester\n",
    "\n",
    "**Unemployment rate:** Unemployment rate (%)\n",
    "\n",
    "**Inflation rate:** Inflation rate (%)\n",
    "\n",
    "**GDP:** GDP\n",
    "\n",
    "**Target:** Target. The problem is formulated as a three category classification task (dropout, enrolled, and graduate) at the end of the normal duration of the courseing"
   ]
  },
  {
   "cell_type": "markdown",
   "id": "c331d19a",
   "metadata": {},
   "source": [
    "### 2.3. Data quality"
   ]
  },
  {
   "cell_type": "markdown",
   "id": "c40c4b7b",
   "metadata": {},
   "source": [
    "#### 2.3.1 Data description"
   ]
  },
  {
   "cell_type": "code",
   "execution_count": null,
   "id": "b8456b49",
   "metadata": {},
   "outputs": [],
   "source": [
    "df.describe()"
   ]
  },
  {
   "cell_type": "markdown",
   "id": "7c606df0",
   "metadata": {},
   "source": [
    "- There are no missing values in this dataset, as indicated by the dataset information page from the UCI website. This is also confirmed by the occurence of 4424 entries in each feature."
   ]
  },
  {
   "cell_type": "code",
   "execution_count": null,
   "id": "604c7e60",
   "metadata": {},
   "outputs": [],
   "source": [
    "# Check duplicates\n",
    "idx = df.duplicated()\n",
    "len(df[idx])"
   ]
  },
  {
   "cell_type": "markdown",
   "id": "68d81b55",
   "metadata": {},
   "source": [
    "- There are no duplicate data values in this dataset. In the case that there were duplicate values, we would delete the duplicates. \n",
    "\n",
    "- This dataset has also been processed to remove outliers.  If there were outliers, we would drop all rows with entries that are IQR * 1.5 above Q3 and IQR * 1.5 below Q1 for that attribute."
   ]
  },
  {
   "cell_type": "markdown",
   "id": "eeabe782",
   "metadata": {},
   "source": [
    "#### 2.3.2 Cleaning the data"
   ]
  },
  {
   "cell_type": "markdown",
   "id": "6a9ed981",
   "metadata": {},
   "source": [
    "1. Courses\n",
    "\n",
    "    The first thing we did to lean the data is to replace all course numbers in the data with the corresponding course names. Since the numbers aren't hierarchical, there's little use in keeping the numbers in the dataset when processing. Names make this data more easy to understand, especially when analyzing the data categorically."
   ]
  },
  {
   "cell_type": "code",
   "execution_count": null,
   "id": "1097199e",
   "metadata": {},
   "outputs": [],
   "source": [
    "# Replaces course numbers with corresponding names\n",
    "\n",
    "df[\"Course\"].replace(to_replace = [33, 171, 8014, 9003, 9070, 9085, 9119, 9130, 9147, 9238, 9254, 9500, 9556, 9670, 9773, 9853, 9991],\n",
    "                    value = [\"Biofuel production\", \"Animation and multimedia\", \"Social service (evening)\", \"Agronomy\", \"Communication design\", \"Veterinary nursing\", \n",
    "                            \"Informatics engineering\", \"Equinculture\", \"Management\", \"Social service\", \"Tourism\", \"Nursing\", \"Oral hygiene\", \"Advertising and marketing management\",\n",
    "                            \"Journalism and communication\", \"Basic Education\", \"Management (evening)\"], inplace = True)\n",
    "\n",
    "df[\"Course\"]"
   ]
  },
  {
   "cell_type": "markdown",
   "id": "59a78cf7",
   "metadata": {},
   "source": [
    "2. Nationality\n",
    "\n",
    "    There was a mispelling of \"Nationality\" in the column name; we fixed this. \n",
    "    \n",
    "    Similar to the course numbers, we replaced the numbers for each nationality with the corresponding nationality name. Since these numbers aren't hierarchical this improved clarity. "
   ]
  },
  {
   "cell_type": "code",
   "execution_count": null,
   "id": "d9e46484",
   "metadata": {},
   "outputs": [],
   "source": [
    "# Correct the mispelling of \"Nationality\"\n",
    "df.rename(columns = {\"Nacionality\":\"Nationality\"}, inplace = True)\n",
    "\n",
    "# Replacing all nationality numers with corresponding names\n",
    "df[\"Nationality\"].replace(to_replace = [1, 2, 6, 11, 13, 14, 17, 21, 22, 24, 25, 26, 32, 41, 62, 100, 101, 103, 105, 108, 109],\n",
    "                         value = [\"Portuguese\", \"German\", \"Spanish\", \"Italian\", \"Dutch\", \"English\", \"Lithuanian\", \"Angolan\", \"Cape Verdean\", \n",
    "                                  \"Guinean\", \"Mozambican\", \"Santomean\", \"Turkish\", \"Brazillian\", \"Romanian\", \"Rep. of Moldova\", \"Mexican\", \"Ukranian\", \n",
    "                                  \"Russian\", \"Cuban\", \"Colombian\"], inplace = True)\n",
    "df[\"Nationality\"]"
   ]
  },
  {
   "cell_type": "markdown",
   "id": "d4f56aa4",
   "metadata": {},
   "source": [
    "3. Marital Status\n",
    "\n",
    "    The casing for marital status was inconsistent with that of other columns; we fixed this.\n",
    "\n",
    "    Similar to the previous two variables, we replaced numbers with their corresponding categories.\n",
    "\n",
    "    "
   ]
  },
  {
   "cell_type": "code",
   "execution_count": null,
   "id": "2c624cb9",
   "metadata": {},
   "outputs": [],
   "source": [
    "# Make casing of variable name consistent with others\n",
    "df.rename(columns = {\"Marital Status\":\"Marital status\"}, inplace = True)\n",
    "\n",
    "# Replacing all marital status numbers with marital status names \n",
    "df[\"Marital status\"].replace(to_replace = [1, 2, 3, 4, 5, 6],\n",
    "                         value = [\"single\", \"married\", \"widower\", \"divorced\", \"facto union\", \"legally separated\"], inplace = True)"
   ]
  },
  {
   "cell_type": "code",
   "execution_count": null,
   "id": "96833637",
   "metadata": {},
   "outputs": [],
   "source": [
    "# Eliminated all rows with students \"Enrolled\" in order to focus on outcomes (\"Graduates\" and \"Dropouts\")\n",
    "\n",
    "df = df.drop(df[df[\"Target\"] == \"Enrolled\"].index)\n",
    "df"
   ]
  },
  {
   "cell_type": "markdown",
   "id": "ae079839",
   "metadata": {},
   "source": [
    "4. Extrenous Variables\n",
    "\n",
    "    The following variables won't be used in our analysis; as such we removed them from the dataframe:\n",
    "\n",
    "    - Application mode, Application order, Previous qualification (grade), Admission grade\n"
   ]
  },
  {
   "cell_type": "code",
   "execution_count": null,
   "id": "11788cd6",
   "metadata": {},
   "outputs": [],
   "source": [
    "# Eliminate attributes that are not necessary\n",
    "\n",
    "# The following data attributes will not contribute meaninfully to our analysis:\n",
    "#    Application mode, Application order, Previous qualification (grade), Admission grade\n",
    "\n",
    "df = df.drop(\"Application mode\", axis = 1)\n",
    "df = df.drop(\"Application order\", axis = 1)\n",
    "df = df.drop(\"Previous qualification (grade)\", axis = 1)\n",
    "df = df.drop(\"Admission grade\", axis = 1)\n",
    "\n",
    "df"
   ]
  },
  {
   "cell_type": "markdown",
   "id": "e28c1ab1",
   "metadata": {},
   "source": [
    "5. Numerical Data\n",
    "\n",
    "    Numerical data summary of all variables with numerical values (categorical variables excluded)"
   ]
  },
  {
   "cell_type": "code",
   "execution_count": null,
   "id": "cd9556c4",
   "metadata": {},
   "outputs": [],
   "source": [
    "# Data summary: 18 attributes displayed\n",
    "\n",
    "summary1 = df.iloc[0:, 0:20]\n",
    "summary1.describe()"
   ]
  },
  {
   "cell_type": "code",
   "execution_count": null,
   "id": "1a07853f",
   "metadata": {},
   "outputs": [],
   "source": [
    "# Data summary: 16 attributes displayed\n",
    "\n",
    "summary2 = df.iloc[0:, 20:38]\n",
    "summary2.describe()"
   ]
  },
  {
   "cell_type": "markdown",
   "id": "f6fc8545",
   "metadata": {},
   "source": [
    "Data summary needed to be expressed this way because all the attributes wouldn't fit in one display (\"...\" in the middle hid values)"
   ]
  },
  {
   "cell_type": "code",
   "execution_count": null,
   "id": "ba782a74",
   "metadata": {},
   "outputs": [],
   "source": [
    "# calculate number of graduates and dropouts\n",
    "grad = 0\n",
    "drop = 0\n",
    "none = 0\n",
    "\n",
    "for x in df[\"Target\"]:\n",
    "    if x == \"Graduate\":\n",
    "        grad += 1\n",
    "    elif x == \"Dropout\":\n",
    "        drop += 1\n",
    "    else:\n",
    "        none += 1\n",
    "        \n",
    "print(\"Number of graduates: \", grad)\n",
    "print(\"Number of dropouts: \", drop)\n",
    "print(\"Other: \", none, \" (checking for extraneous data, there is none)\")\n",
    "print(\"Total number of students: \", (grad + drop + none), \"(total matches number of rows)\")\n"
   ]
  },
  {
   "cell_type": "markdown",
   "id": "7cf1dbb4",
   "metadata": {},
   "source": [
    "# 3. Data Visualization"
   ]
  },
  {
   "cell_type": "code",
   "execution_count": null,
   "id": "8d8234be",
   "metadata": {},
   "outputs": [],
   "source": [
    "df_target_labs = [\"Graduates\", \"Dropouts\"]\n",
    "df_target_vals = [grad, drop]\n",
    "\n",
    "plt.bar(df_target_labs, df_target_vals)\n",
    "plt.xlabel(\"Student Outcome\")\n",
    "plt.ylabel(\"Number of Students\")\n",
    "plt.title(\"Number of Students who Graduated or Dropped Out\")\n",
    "plt.show()"
   ]
  },
  {
   "cell_type": "code",
   "execution_count": null,
   "id": "a1e0dfe2",
   "metadata": {},
   "outputs": [],
   "source": [
    "# Histogram: qualifications\n",
    "\n",
    "# fig, axs = plt.subplots(nrows=2, ncols=1, figsize=(15, 15), sharey=True)\n",
    "\n",
    "plt.boxplot(df[\"Mother's qualification\"], vert = False)\n",
    "plt.title(\"Distribution of Mother's qualification\", fontsize = 13)\n",
    "plt.xlabel(\"Education level (scale of 1 - 44)\", fontsize = 12)\n",
    "plt.show()\n",
    "\n",
    "plt.boxplot(df[\"Father's qualification\"], vert = False)\n",
    "plt.title(\"Distribution of Father's qualification\", fontsize = 13)\n",
    "plt.xlabel(\"Education level (scale of 1 - 44)\", fontsize = 12)\n",
    "plt.show()\n"
   ]
  },
  {
   "cell_type": "code",
   "execution_count": null,
   "id": "c2a8d0af",
   "metadata": {},
   "outputs": [],
   "source": [
    "plt.subplots(figsize=(20, 5))\n",
    "\n",
    "plt.subplot(1,3,1)\n",
    "sb.boxplot(x = df[\"Target\"], y = df[\"Mother's qualification\"], data = df)\n",
    "plt.title('Boxplot Example')\n",
    "\n",
    "plt.subplot(1,3,2)\n",
    "sb.boxplot(x = df[\"Target\"], y = df[\"Father's qualification\"], data = df)\n",
    "plt.title('Boxplot Example')\n",
    "\n",
    "plt.show()"
   ]
  },
  {
   "cell_type": "code",
   "execution_count": null,
   "id": "d12dbe41",
   "metadata": {},
   "outputs": [],
   "source": [
    "df_subset = df[[\"Course\", \"Target\"]]\n",
    "\n",
    "# replace graduate and dropout  by 1 and 0\n",
    "df_subset[\"Target\"].replace(to_replace = [\"Graduate\", \"Dropout\"],\n",
    "                         value = [1, 0], inplace = True)\n",
    "\n",
    "# group by course and sum the target value\n",
    "df_grouped = df_subset.groupby(\"Course\").sum()\n",
    "df_grouped = df_grouped.sort_values(\"Target\", ascending=True).T\n",
    "\n",
    "\n",
    "\n",
    "df_grouped.plot(kind = 'barh', figsize=(10, 6))\n",
    "\n",
    "# Orders the legend:\n",
    "handles, labels = plt.gca().get_legend_handles_labels() \n",
    "\n",
    "# specify order \n",
    "order = range(17)\n",
    "order = order[::-1]\n",
    "  \n",
    "# pass handle & labels lists along with order as below \n",
    "plt.legend([handles[i] for i in order], [labels[i] for i in order]) \n",
    "\n",
    "plt.show()\n",
    "\n",
    "\n",
    "\n",
    "# plt.bar(df_grouped.apply(np.unique), df_grouped.sum())"
   ]
  },
  {
   "cell_type": "code",
   "execution_count": null,
   "id": "99c4b136",
   "metadata": {},
   "outputs": [],
   "source": [
    "print(df_grouped.sum().sort_values(ascending=False))"
   ]
  },
  {
   "cell_type": "code",
   "execution_count": null,
   "id": "480af604",
   "metadata": {},
   "outputs": [],
   "source": [
    "single = 0\n",
    "married = 0\n",
    "widower = 0\n",
    "divorced = 0\n",
    "facto_union = 0\n",
    "legally_separated = 0\n",
    "none = 0\n",
    "\n",
    "for x in df[\"Marital status\"]:\n",
    "    if x == \"single\":\n",
    "        single += 1\n",
    "    elif x == \"married\":\n",
    "        married += 1\n",
    "    elif x == \"widower\":\n",
    "        widower += 1\n",
    "    elif x == \"divorced\":\n",
    "        divorced += 1\n",
    "    elif x == \"facto union\":\n",
    "        facto_union += 1\n",
    "    elif x == \"legally separated\":\n",
    "        legally_separated += 1\n",
    "    else:\n",
    "        none += 1\n",
    "\n",
    "# multi-line string\n",
    "temp = f\"\"\"\n",
    "single: {single}\n",
    "married: {married}\n",
    "divorced: {divorced}\n",
    "facto_union: {facto_union}\n",
    "legally_separated: {legally_separated}\n",
    "widower: {widower}\n",
    "none: {none}\n",
    "\"\"\"\n",
    "# prints results\n",
    "print(temp)\n"
   ]
  },
  {
   "cell_type": "code",
   "execution_count": null,
   "id": "d821f8fd",
   "metadata": {},
   "outputs": [],
   "source": [
    "married_label = [\"Single\", \"Married\"]\n",
    "married_count = [single, married]\n",
    "\n",
    "plt.bar(married_label, married_count)"
   ]
  },
  {
   "cell_type": "code",
   "execution_count": null,
   "id": "d2bc8c8f",
   "metadata": {},
   "outputs": [],
   "source": [
    "female = 0\n",
    "male = 0\n",
    "none = 0\n",
    "\n",
    "for x in df[\"Gender\"]:\n",
    "    if x == 0:\n",
    "        male += 1\n",
    "    elif x == 1:\n",
    "        female += 1\n",
    "    else:\n",
    "        none += 1\n",
    "\n",
    "gender_label = [\"Female\", \"Male\"]\n",
    "gender_count = [female, male]\n",
    "\n",
    "plt.bar(gender_label, gender_count)"
   ]
  },
  {
   "cell_type": "code",
   "execution_count": null,
   "id": "c0788c05",
   "metadata": {},
   "outputs": [],
   "source": [
    "marital_gender = df\n",
    "marital_gender = marital_gender.drop(df[df[\"Marital status\"] == \"divorced\"].index)\n",
    "marital_gender = marital_gender.drop(df[df[\"Marital status\"] == \"facto union\"].index)\n",
    "marital_gender = marital_gender.drop(df[df[\"Marital status\"] == \"legally separated\"].index)\n",
    "marital_gender = marital_gender.drop(df[df[\"Marital status\"] == \"widower\"].index)\n",
    "\n",
    "\n",
    "marital_gender_plot = pd.crosstab([marital_gender[\"Marital status\"],\n",
    "                        marital_gender[\"Gender\"]], # categories to cross tabulate\n",
    "                       marital_gender[\"Target\"]) # how to group\n",
    "print(marital_gender_plot)\n",
    "\n",
    "marital_gender_plot.plot(kind='barh', stacked=True)\n",
    "plt.show()"
   ]
  },
  {
   "cell_type": "code",
   "execution_count": null,
   "id": "34feeab7",
   "metadata": {},
   "outputs": [],
   "source": [
    "marital_gender = df\n",
    "marital_gender = marital_gender.drop(df[df[\"Marital status\"] == \"divorced\"].index)\n",
    "marital_gender = marital_gender.drop(df[df[\"Marital status\"] == \"facto union\"].index)\n",
    "marital_gender = marital_gender.drop(df[df[\"Marital status\"] == \"legally separated\"].index)\n",
    "marital_gender = marital_gender.drop(df[df[\"Marital status\"] == \"widower\"].index)\n",
    "marital_gender = marital_gender.drop(df[df[\"Marital status\"] == \"single\"].index)\n",
    "\n",
    "\n",
    "marital_gender_plot = pd.crosstab([marital_gender[\"Marital status\"],\n",
    "                        marital_gender[\"Gender\"]], # categories to cross tabulate\n",
    "                       marital_gender[\"Target\"]) # how to group\n",
    "print(marital_gender_plot)\n",
    "\n",
    "marital_gender_plot.plot(kind='barh', stacked=True)\n",
    "plt.show()"
   ]
  },
  {
   "cell_type": "markdown",
   "id": "6f26d5b0",
   "metadata": {},
   "source": [
    "### Heatmap"
   ]
  },
  {
   "cell_type": "code",
   "execution_count": null,
   "id": "f357b63e",
   "metadata": {},
   "outputs": [],
   "source": [
    "# first group the data\n",
    "df_marital = df.groupby(by=[\"Marital status\", \"Gender\"])\n",
    "\n",
    "# tabulate survival rates of each group\n",
    "# survival_rate = df_marital.Survived.sum() / df_grouped.Survived.count()\n",
    "\n",
    "# show in a bar chart using builtin pandas API\n",
    "ax = df_marital.plot(kind='barh')\n",
    "plt.title('Survival Percentages by Class and Age Range')\n",
    "plt.show()"
   ]
  },
  {
   "cell_type": "code",
   "execution_count": null,
   "id": "b77bf12b",
   "metadata": {},
   "outputs": [],
   "source": [
    "# the correlation plot is Feature based becasue we get\n",
    "# a place in the plot for each feature\n",
    "# in this plot we are asking, what features are most correlated? \n",
    "\n",
    "df_heatmap = df[[\"Scholarship holder\", \"Debtor\", \"Tuition fees up to date\"]]\n",
    "\n",
    "cmap = sb.set(style=\"darkgrid\") # one of the many styles to plot using\n",
    "\n",
    "f, ax = plt.subplots(figsize=(8, 8))\n",
    "sb.heatmap(df_heatmap.corr(), cmap=cmap, annot=True)\n",
    "\n",
    "# f.tight_layout()"
   ]
  },
  {
   "cell_type": "markdown",
   "id": "8439cb0d",
   "metadata": {},
   "source": []
  },
  {
   "cell_type": "markdown",
   "id": "74967f59",
   "metadata": {},
   "source": [
    "## Nationality"
   ]
  },
  {
   "cell_type": "code",
   "execution_count": null,
   "id": "ac566200",
   "metadata": {},
   "outputs": [],
   "source": [
    "#changing target to be numerical\n",
    "#Doing this to make a correlation matrix\n",
    "df[\"Target\"].replace(to_replace = ['Dropout', 'Graduate'], value = [0, 1], inplace = True)\n",
    "df[\"Target\"]"
   ]
  },
  {
   "cell_type": "markdown",
   "id": "a830b184",
   "metadata": {},
   "source": [
    "The correlation matrix shows the correlation between the Target variable (graduate or dropout) and GDP, unemployment rate, and inflation rate."
   ]
  },
  {
   "cell_type": "code",
   "execution_count": null,
   "id": "b6f01a45",
   "metadata": {},
   "outputs": [],
   "source": [
    "\n",
    "# plot the correlation matrix \n",
    "vars_to_use = ['Unemployment rate', 'Inflation rate', 'GDP', \"Target\"] # pick vars\n",
    "cmap = sb.set(style=\"darkgrid\") # one of the many styles to plot using\n",
    "\n",
    "f, ax = plt.subplots(figsize=(8, 8))\n",
    "sb.heatmap(df[vars_to_use].corr(), cmap=cmap, annot=True)\n"
   ]
  },
  {
   "cell_type": "code",
   "execution_count": null,
   "id": "c6405118",
   "metadata": {},
   "outputs": [],
   "source": [
    "#replacing the 0, 1 values of target with categorical labels (Dropout or Graduate)\n",
    "df[\"Target\"].replace(to_replace = [0, 1], value = ['Dropout', 'Graduate'], inplace = True)"
   ]
  },
  {
   "cell_type": "markdown",
   "id": "5e863cad",
   "metadata": {},
   "source": [
    "The following bar plot shows the number of students of each nationality included in the dataset. This is so we can get a better grasp of the distribution. As shown by the graph, the data includes mostly student who are Portuguese."
   ]
  },
  {
   "cell_type": "code",
   "execution_count": null,
   "id": "195d1773",
   "metadata": {},
   "outputs": [],
   "source": [
    "\n",
    "#create the bar plot\n",
    "plt.figure(figsize=(12, 6))\n",
    "sb.countplot(x='Nationality', data=df, palette='pastel', edgecolor='gray', saturation=0.8, linewidth=1)\n",
    "plt.title('Count of Students by Nationality')\n",
    "plt.xlabel('Nationality')\n",
    "plt.ylabel('Count')\n",
    "\n",
    "#rotate x-axis labels for better readability\n",
    "plt.xticks(rotation=45, ha='right')  \n",
    "plt.tight_layout()\n",
    "plt.show()"
   ]
  },
  {
   "cell_type": "markdown",
   "id": "df3e200c",
   "metadata": {},
   "source": [
    "-since data mostly includes Portuguese students, here is a bar chart of graduate vs dropout count for portuguese students"
   ]
  },
  {
   "cell_type": "code",
   "execution_count": null,
   "id": "0b9ffcf8",
   "metadata": {},
   "outputs": [],
   "source": [
    "#filter the dataframe to include only Portuguese students\n",
    "portuguese_df = df[df['Nationality'] == 'Portuguese']\n",
    "\n",
    "#create the plot\n",
    "plt.figure(figsize=(8, 6))\n",
    "sb.countplot(x='Target', data=portuguese_df, palette='pastel')\n",
    "plt.title('Graduate vs Dropout Rate for Portuguese Students')\n",
    "plt.xlabel('Target')\n",
    "plt.ylabel('Count')\n",
    "plt.xticks(rotation=45)\n",
    "plt.tight_layout()\n",
    "plt.show()"
   ]
  },
  {
   "cell_type": "markdown",
   "id": "9ce2f506",
   "metadata": {},
   "source": [
    "-normalized data by grad vs dropout rate and count of students for each nationality \n",
    "-to get sense of the distribution by nationality"
   ]
  },
  {
   "cell_type": "code",
   "execution_count": null,
   "id": "b970ce71",
   "metadata": {},
   "outputs": [],
   "source": [
    "#calculate the percentage of students in each category for each nationality\n",
    "nationality_counts = df['Nationality'].value_counts()\n",
    "nationality_percentages = {}\n",
    "\n",
    "#normalize data by count of students in each category for each nationality\n",
    "for nationality in nationality_counts.index:\n",
    "    nationality_df = df[df['Nationality'] == nationality]\n",
    "    total_students = len(nationality_df)\n",
    "    graduate_count = len(nationality_df[nationality_df['Target'] == 'Graduate'])\n",
    "    dropout_count = len(nationality_df[nationality_df['Target'] == 'Dropout'])\n",
    "    \n",
    "    graduate_percentage = (graduate_count / total_students) * 100\n",
    "    dropout_percentage = (dropout_count / total_students) * 100\n",
    "    \n",
    "    nationality_percentages[nationality] = {'Graduate': graduate_percentage, 'Dropout': dropout_percentage}\n",
    "\n",
    "#create a dataframe for plotting\n",
    "plot_df = pd.DataFrame(nationality_percentages).transpose()\n",
    "\n",
    "#create the bar plot\n",
    "plt.figure(figsize=(12, 6))\n",
    "plot_df.plot(kind='bar', stacked=True, color=['lightgreen', 'lightcoral'], edgecolor='gray')\n",
    "plt.title('Graduate vs Dropout Rate by Nationality (Normalized)')\n",
    "plt.xlabel('Nationality')\n",
    "plt.ylabel('Percentage')\n",
    "plt.ylim(0, 100)  # Set y-axis limit to ensure correct scaling\n",
    "plt.xticks(rotation=45, ha='right')\n",
    "plt.legend(title='Target', loc='upper right')\n",
    "plt.tight_layout()\n",
    "plt.show()"
   ]
  },
  {
   "cell_type": "markdown",
   "id": "da483f6c",
   "metadata": {},
   "source": [
    "-inflation rate, gdp, and unemployment rate vs dropout vs graduate"
   ]
  },
  {
   "cell_type": "code",
   "execution_count": null,
   "id": "92707e71",
   "metadata": {},
   "outputs": [],
   "source": [
    "#set up the figure and axes\n",
    "fig, axes = plt.subplots(nrows=1, ncols=3, figsize=(18, 6))\n",
    "\n",
    "#create boxplot of Inflation Rate\n",
    "sb.boxplot(x='Target', y='Inflation rate', data=df, ax=axes[0], palette='pastel')\n",
    "axes[0].set_title('Inflation vs. Graduate vs Dropout')\n",
    "axes[0].set_xlabel('Student Outcome')\n",
    "axes[0].set_ylabel('Inflation')\n",
    "\n",
    "#create boxplot of Inflation Rate\n",
    "sb.boxplot(x='Target', y='Unemployment rate', data=df, ax=axes[1], palette='pastel')\n",
    "axes[1].set_title('Unemployment vs. Graduate vs Dropout')\n",
    "axes[1].set_xlabel('Student Outcome')\n",
    "axes[1].set_ylabel('Unemployment')\n",
    "\n",
    "#create boxplot of Inflation Rate\n",
    "sb.boxplot(x='Target', y='GDP', data=df, ax=axes[2], palette='pastel')\n",
    "axes[2].set_title('GDP vs. Graduate vs Dropout')\n",
    "axes[2].set_xlabel('Student Outcome')\n",
    "axes[2].set_ylabel('GDP')\n",
    "\n",
    "#show the plot\n",
    "plt.tight_layout()\n",
    "plt.show()"
   ]
  },
  {
   "cell_type": "code",
   "execution_count": null,
   "id": "6fa39e7a",
   "metadata": {},
   "outputs": [],
   "source": [
    "#set up the figure and axes\n",
    "fig, axes = plt.subplots(nrows=1, ncols=3, figsize=(18, 6))\n",
    "\n",
    "#create boxplot of Inflation Rate\n",
    "sb.boxplot(x='Target', y='Inflation rate', data=df, ax=axes[0], palette='pastel')\n",
    "axes[0].set_title('Inflation vs. Graduate vs Dropout')\n",
    "axes[0].set_xlabel('Student Outcome')\n",
    "axes[0].set_ylabel('Inflation')\n",
    "\n",
    "#create boxplot of Inflation Rate\n",
    "sb.boxplot(x='Target', y='Unemployment rate', data=df, ax=axes[1], palette='pastel')\n",
    "axes[1].set_title('Unemployment vs. Graduate vs Dropout')\n",
    "axes[1].set_xlabel('Student Outcome')\n",
    "axes[1].set_ylabel('Unemployment')\n",
    "\n",
    "#create boxplot of Inflation Rate\n",
    "sb.boxplot(x='Target', y='GDP', data=df, ax=axes[2], palette='pastel')\n",
    "axes[2].set_title('GDP vs. Graduate vs Dropout')\n",
    "axes[2].set_xlabel('Student Outcome')\n",
    "axes[2].set_ylabel('GDP')\n",
    "\n",
    "#show the plot\n",
    "plt.tight_layout()\n",
    "plt.show()"
   ]
  },
  {
   "cell_type": "markdown",
   "id": "0cf32b86",
   "metadata": {},
   "source": [
    "<h1>Financial Factors<h1>"
   ]
  },
  {
   "cell_type": "markdown",
   "id": "94ef365d",
   "metadata": {},
   "source": [
    "This first graph shows the number of students that are debtors, have their tuition fees up to date, and are scholarship holders. This information lets us see how many students are in financial need. "
   ]
  },
  {
   "cell_type": "code",
   "execution_count": null,
   "id": "bf095c12",
   "metadata": {},
   "outputs": [],
   "source": [
    "#make bar chart for debtors, scholarship holders, etc\n",
    "# Filter the DataFrame to include only relevant columns\n",
    "relevant_data = df[['Scholarship holder', 'Debtor', 'Tuition fees up to date']]\n",
    "\n",
    "#count the occurrences of each category\n",
    "counts = relevant_data.sum()\n",
    "\n",
    "#plotting\n",
    "counts.plot(kind='bar', color=['skyblue', 'salmon', 'lightgreen'], figsize=(10, 6))\n",
    "\n",
    "#adding labels and title\n",
    "plt.xlabel('Category')\n",
    "plt.ylabel('Count')\n",
    "plt.title('Counts of Scholarship Holders, Debtors, and Tuition Fees Up to Date')\n",
    "\n",
    "#show plot\n",
    "plt.show()"
   ]
  },
  {
   "cell_type": "markdown",
   "id": "eff84995",
   "metadata": {},
   "source": [
    "This chart shows the amount of graduates among scholarship holders, debters, and students whose tuition fees are up to date. It shows that debtors have the highest dropout rate among the three categories. "
   ]
  },
  {
   "cell_type": "code",
   "execution_count": null,
   "id": "b37d13a9",
   "metadata": {},
   "outputs": [],
   "source": [
    "#filter the dataframe to include only relevant columns\n",
    "relevant_data = df[['Target', 'Debtor', 'Scholarship holder', 'Tuition fees up to date']]\n",
    "\n",
    "#group by Target and sum occurrences of each category\n",
    "grouped_data = relevant_data.groupby('Target').sum()\n",
    "\n",
    "#transpose the dataframe for easier plotting\n",
    "grouped_data = grouped_data.T\n",
    "\n",
    "#plotting the chart\n",
    "grouped_data.plot(kind='barh', stacked=True, figsize=(10, 6), color=['skyblue', 'salmon', 'lightgreen'])\n",
    "\n",
    "#adding labels and title\n",
    "plt.xlabel('Count')\n",
    "plt.ylabel('Category')\n",
    "plt.title('Stacked Bar Chart of Target with Debtors, Scholarship Holders, and Tuition Fees Up to Date')\n",
    "\n",
    "#show plot\n",
    "plt.show()"
   ]
  },
  {
   "cell_type": "code",
   "execution_count": null,
   "id": "fade04c4",
   "metadata": {},
   "outputs": [],
   "source": []
  }
 ],
 "metadata": {
  "kernelspec": {
   "display_name": "Python 3 (ipykernel)",
   "language": "python",
   "name": "python3"
  },
  "language_info": {
   "codemirror_mode": {
    "name": "ipython",
    "version": 3
   },
   "file_extension": ".py",
   "mimetype": "text/x-python",
   "name": "python",
   "nbconvert_exporter": "python",
   "pygments_lexer": "ipython3",
   "version": "3.11.3"
  }
 },
 "nbformat": 4,
 "nbformat_minor": 5
}
