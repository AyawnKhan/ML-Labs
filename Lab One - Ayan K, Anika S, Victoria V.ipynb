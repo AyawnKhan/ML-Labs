{
 "cells": [
  {
   "cell_type": "markdown",
   "id": "79fbaa96",
   "metadata": {},
   "source": [
    "# 1. Business Understanding\n"
   ]
  },
  {
   "cell_type": "markdown",
   "id": "a9b981ef",
   "metadata": {},
   "source": []
  },
  {
   "cell_type": "markdown",
   "id": "0eeb4436",
   "metadata": {},
   "source": [
    "# 2. Data Understanding"
   ]
  },
  {
   "cell_type": "code",
   "execution_count": null,
   "id": "d6c53338",
   "metadata": {},
   "outputs": [],
   "source": [
    "# importing data \n",
    "import pandas as pd\n",
    "import numpy as np \n",
    "\n",
    "df = pd.read_csv('data.csv')"
   ]
  },
  {
   "cell_type": "markdown",
   "id": "ec63282b",
   "metadata": {},
   "source": []
  },
  {
   "cell_type": "markdown",
   "id": "40b5e1b8",
   "metadata": {},
   "source": [
    "### 2.1 - Victoria"
   ]
  },
  {
   "cell_type": "code",
   "execution_count": null,
   "id": "d0cb679e",
   "metadata": {},
   "outputs": [],
   "source": []
  },
  {
   "cell_type": "markdown",
   "id": "341731e5",
   "metadata": {},
   "source": [
    "### 2.2 - Anika"
   ]
  },
  {
   "cell_type": "code",
   "execution_count": null,
   "id": "b7399801",
   "metadata": {},
   "outputs": [],
   "source": []
  },
  {
   "cell_type": "markdown",
   "id": "f50e7bb3",
   "metadata": {},
   "source": [
    "### 2.3 - Ayan"
   ]
  },
  {
   "cell_type": "code",
   "execution_count": null,
   "id": "ac1514c2",
   "metadata": {},
   "outputs": [],
   "source": []
  },
  {
   "cell_type": "markdown",
   "id": "7cf1dbb4",
   "metadata": {},
   "source": [
    "## 3. Data Visualization"
   ]
  }
 ],
 "metadata": {
  "kernelspec": {
   "display_name": "Python 3 (ipykernel)",
   "language": "python",
   "name": "python3"
  },
  "language_info": {
   "codemirror_mode": {
    "name": "ipython",
    "version": 3
   },
   "file_extension": ".py",
   "mimetype": "text/x-python",
   "name": "python",
   "nbconvert_exporter": "python",
   "pygments_lexer": "ipython3",
   "version": "3.11.7"
  }
 },
 "nbformat": 4,
 "nbformat_minor": 5
}
