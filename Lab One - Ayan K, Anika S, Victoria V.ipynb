{
 "cells": [
  {
   "cell_type": "markdown",
   "id": "79fbaa96",
   "metadata": {},
   "source": [
    "# 1. Business Understanding\n"
   ]
  },
  {
   "cell_type": "markdown",
   "id": "a9b981ef",
   "metadata": {},
   "source": []
  },
  {
   "cell_type": "markdown",
   "id": "0eeb4436",
   "metadata": {},
   "source": [
    "# 2. Data Understanding"
   ]
  },
  {
   "cell_type": "code",
   "execution_count": 2,
   "id": "d6c53338",
   "metadata": {},
   "outputs": [
    {
     "ename": "ModuleNotFoundError",
     "evalue": "No module named 'pandas'",
     "output_type": "error",
     "traceback": [
      "\u001b[0;31m---------------------------------------------------------------------------\u001b[0m",
      "\u001b[0;31mModuleNotFoundError\u001b[0m                       Traceback (most recent call last)",
      "Cell \u001b[0;32mIn[2], line 2\u001b[0m\n\u001b[1;32m      1\u001b[0m \u001b[39m# importing data \u001b[39;00m\n\u001b[0;32m----> 2\u001b[0m \u001b[39mimport\u001b[39;00m \u001b[39mpandas\u001b[39;00m \u001b[39mas\u001b[39;00m \u001b[39mpd\u001b[39;00m\n\u001b[1;32m      3\u001b[0m \u001b[39mimport\u001b[39;00m \u001b[39mnumpy\u001b[39;00m \u001b[39mas\u001b[39;00m \u001b[39mnp\u001b[39;00m \n\u001b[1;32m      5\u001b[0m df \u001b[39m=\u001b[39m pd\u001b[39m.\u001b[39mread_csv(\u001b[39m'\u001b[39m\u001b[39mdata.csv\u001b[39m\u001b[39m'\u001b[39m, sep\u001b[39m=\u001b[39m\u001b[39m'\u001b[39m\u001b[39m;\u001b[39m\u001b[39m'\u001b[39m)\n",
      "\u001b[0;31mModuleNotFoundError\u001b[0m: No module named 'pandas'"
     ]
    }
   ],
   "source": [
    "# importing data \n",
    "import pandas as pd\n",
    "import numpy as np \n",
    "\n",
    "df = pd.read_csv('data.csv', sep=';')\n",
    "df.head()"
   ]
  },
  {
   "cell_type": "markdown",
   "id": "ec63282b",
   "metadata": {},
   "source": []
  },
  {
   "cell_type": "markdown",
   "id": "40b5e1b8",
   "metadata": {},
   "source": [
    "### 2.1 - Victoria"
   ]
  },
  {
   "cell_type": "code",
   "execution_count": null,
   "id": "d0cb679e",
   "metadata": {},
   "outputs": [],
   "source": []
  },
  {
   "cell_type": "markdown",
   "id": "341731e5",
   "metadata": {},
   "source": [
    "### 2.2 - Anika"
   ]
  },
  {
   "cell_type": "code",
   "execution_count": 7,
   "id": "b7399801",
   "metadata": {},
   "outputs": [
    {
     "ename": "ModuleNotFoundError",
     "evalue": "No module named 'pandas'",
     "output_type": "error",
     "traceback": [
      "\u001b[0;31m---------------------------------------------------------------------------\u001b[0m",
      "\u001b[0;31mModuleNotFoundError\u001b[0m                       Traceback (most recent call last)",
      "Cell \u001b[0;32mIn[7], line 4\u001b[0m\n\u001b[1;32m      1\u001b[0m \u001b[39m# Anika testing\u001b[39;00m\n\u001b[1;32m      2\u001b[0m \n\u001b[1;32m      3\u001b[0m \u001b[39m# second test\u001b[39;00m\n\u001b[0;32m----> 4\u001b[0m \u001b[39mimport\u001b[39;00m \u001b[39mpandas\u001b[39;00m \u001b[39mas\u001b[39;00m \u001b[39mpd\u001b[39;00m\n",
      "\u001b[0;31mModuleNotFoundError\u001b[0m: No module named 'pandas'"
     ]
    }
   ],
   "source": [
    "# Anika testing\n",
    "\n",
    "# second test\n",
    "pip install ucimlrepo\n",
    "\n",
    "# DATA UNDERSTANDING\n",
    "\n",
    "# Dataset\n",
    "\n",
    "df = pd.read_csv('/Users/sai/Desktop/MLLab1/data.csv', sep=';') \n",
    "df\n",
    "\n",
    "\n",
    "from ucimlrepo import fetch_ucirepo \n",
    "  \n",
    "# fetch dataset \n",
    "predict_students_dropout_and_academic_success = fetch_ucirepo(id=697) \n",
    " \n",
    "# variable information \n",
    "df_var = predict_students_dropout_and_academic_success.variables\n",
    "df_var\n",
    "\n",
    "\n",
    "# The data information and data types from the original dataset are as listed above.\n",
    "\n",
    "# For the most part, it would be best to represent each data attribute the way it's listed, but the \n",
    "# following attributes would benefit from using a different data type:\n",
    "#    Course: string instead of int\n",
    "#    Nationality: string instead of int\n",
    "\n",
    "# For these variables, it would be best to work with them as integers, but they are thought of as booleans:\n",
    "#    Displaced, Educational special needs, Debtor, Tuition fees up to date, Scholarship holder, International\n",
    "\n",
    "# The following data attributes will not contribute meaninfully to our analysis:\n",
    "#    Application mode, Application order, Admission grade, Previous qualification (grade)\n",
    "\n",
    "\n",
    "# Restatement of descriptions as they got cut off:\n",
    "\n",
    "# Marital status: 1 – single 2 – married 3 – widower 4 – divorced 5 – facto union 6 – legally separated\n",
    "# Application mode: 1 - 1st phase - general contingent 2 - Ordinance No. 612/93 5 - 1st phase - special contingent (Azores Island) 7 - Holders of other higher courses 10 - Ordinance No. 854-B/99 15 - International student (bachelor) 16 - 1st phase - special contingent (Madeira Island) 17 - 2nd phase - general contingent 18 - 3rd phase - general contingent 26 - Ordinance No. 533-A/99, item b2) (Different Plan) 27 - Ordinance No. 533-A/99, item b3 (Other Institution) 39 - Over 23 years old 42 - Transfer 43 - Change of course 44 - Technological specialization diploma holders 51 - Change of institution/course 53 - Short cycle diploma holders 57 - Change of institution/course (International)\n",
    "# Application order: Application order (between 0 - first choice; and 9 last choice)\n",
    "# Course: 33 - Biofuel Production Technologies 171 - Animation and Multimedia Design 8014 - Social Service (evening attendance) 9003 - Agronomy 9070 - Communication Design 9085 - Veterinary Nursing 9119 - Informatics Engineering 9130 - Equinculture 9147 - Management 9238 - Social Service 9254 - Tourism 9500 - Nursing 9556 - Oral Hygiene 9670 - Advertising and Marketing Management 9773 - Journalism and Communication 9853 - Basic Education 9991 - Management (evening attendance)\n",
    "# Daytime/evening attendance: 1 – daytime 0 - evening\n",
    "# Previous qualification: 1 - Secondary education 2 - Higher education - bachelor's degree 3 - Higher education - degree 4 - Higher education - master's 5 - Higher education - doctorate 6 - Frequency of higher education 9 - 12th year of schooling - not completed 10 - 11th year of schooling - not completed 12 - Other - 11th year of schooling 14 - 10th year of schooling 15 - 10th year of schooling - not completed 19 - Basic education 3rd cycle (9th/10th/11th year) or equiv. 38 - Basic education 2nd cycle (6th/7th/8th year) or equiv. 39 - Technological specialization course 40 - Higher education - degree (1st cycle) 42 - Professional higher technical course 43 - Higher education - master (2nd cycle)\n",
    "# Previous qualification (grade): Grade of previous qualification (between 0 and 200)\n",
    "# Nationality: 1 - Portuguese; 2 - German; 6 - Spanish; 11 - Italian; 13 - Dutch; 14 - English; 17 - Lithuanian; 21 - Angolan; 22 - Cape Verdean; 24 - Guinean; 25 - Mozambican; 26 - Santomean; 32 - Turkish; 41 - Brazilian; 62 - Romanian; 100 - Moldova (Republic of); 101 - Mexican; 103 - Ukrainian; 105 - Russian; 108 - Cuban; 109 - Colombian\n",
    "# Mother's qualification: 1 - Secondary Education - 12th Year of Schooling or Eq. 2 - Higher Education - Bachelor's Degree 3 - Higher Education - Degree 4 - Higher Education - Master's 5 - Higher Education - Doctorate 6 - Frequency of Higher Education 9 - 12th Year of Schooling - Not Completed 10 - 11th Year of Schooling - Not Completed 11 - 7th Year (Old) 12 - Other - 11th Year of Schooling 14 - 10th Year of Schooling 18 - General commerce course 19 - Basic Education 3rd Cycle (9th/10th/11th Year) or Equiv. 22 - Technical-professional course 26 - 7th year of schooling 27 - 2nd cycle of the general high school course 29 - 9th Year of Schooling - Not Completed 30 - 8th year of schooling 34 - Unknown 35 - Can't read or write 36 - Can read without having a 4th year of schooling 37 - Basic education 1st cycle (4th/5th year) or equiv. 38 - Basic Education 2nd Cycle (6th/7th/8th Year) or Equiv. 39 - Technological specialization course 40 - Higher education - degree (1st cycle) 41 - Specialized higher studies course 42 - Professional higher technical course 43 - Higher Education - Master (2nd cycle) 44 - Higher Education - Doctorate (3rd cycle)\n",
    "# Father's qualification: 1 - Secondary Education - 12th Year of Schooling or Eq. 2 - Higher Education - Bachelor's Degree 3 - Higher Education - Degree 4 - Higher Education - Master's 5 - Higher Education - Doctorate 6 - Frequency of Higher Education 9 - 12th Year of Schooling - Not Completed 10 - 11th Year of Schooling - Not Completed 11 - 7th Year (Old) 12 - Other - 11th Year of Schooling 14 - 10th Year of Schooling 18 - General commerce course 19 - Basic Education 3rd Cycle (9th/10th/11th Year) or Equiv. 22 - Technical-professional course 26 - 7th year of schooling 27 - 2nd cycle of the general high school course 29 - 9th Year of Schooling - Not Completed 30 - 8th year of schooling 34 - Unknown 35 - Can't read or write 36 - Can read without having a 4th year of schooling 37 - Basic education 1st cycle (4th/5th year) or equiv. 38 - Basic Education 2nd Cycle (6th/7th/8th Year) or Equiv. 39 - Technological specialization course 40 - Higher education - degree (1st cycle) 41 - Specialized higher studies course 42 - Professional higher technical course 43 - Higher Education - Master (2nd cycle) 44 - Higher Education - Doctorate (3rd cycle)\n",
    "# Mother's occupation: 0 - Student 1 - Representatives of the Legislative Power and Executive Bodies, Directors, Directors and Executive Managers 2 - Specialists in Intellectual and Scientific Activities 3 - Intermediate Level Technicians and Professions 4 - Administrative staff 5 - Personal Services, Security and Safety Workers and Sellers 6 - Farmers and Skilled Workers in Agriculture, Fisheries and Forestry 7 - Skilled Workers in Industry, Construction and Craftsmen 8 - Installation and Machine Operators and Assembly Workers 9 - Unskilled Workers 10 - Armed Forces Professions 90 - Other Situation 99 - (blank) 122 - Health professionals 123 - teachers 125 - Specialists in information and communication technologies (ICT) 131 - Intermediate level science and engineering technicians and professions 132 - Technicians and professionals, of intermediate level of health 134 - Intermediate level technicians from legal, social, sports, cultural and similar services 141 - Office workers, secretaries in general and data processing operators 143 - Data, accounting, statistical, financial services and registry-related operators 144 - Other administrative support staff 151 - personal service workers 152 - sellers 153 - Personal care workers and the like 171 - Skilled construction workers and the like, except electricians 173 - Skilled workers in printing, precision instrument manufacturing, jewelers, artisans and the like 175 - Workers in food processing, woodworking, clothing and other industries and crafts 191 - cleaning workers 192 - Unskilled workers in agriculture, animal production, fisheries and forestry 193 - Unskilled workers in extractive industry, construction, manufacturing and transport 194 - Meal preparation assistants\n",
    "# Father's occupation: 0 - Student 1 - Representatives of the Legislative Power and Executive Bodies, Directors, Directors and Executive Managers 2 - Specialists in Intellectual and Scientific Activities 3 - Intermediate Level Technicians and Professions 4 - Administrative staff 5 - Personal Services, Security and Safety Workers and Sellers 6 - Farmers and Skilled Workers in Agriculture, Fisheries and Forestry 7 - Skilled Workers in Industry, Construction and Craftsmen 8 - Installation and Machine Operators and Assembly Workers 9 - Unskilled Workers 10 - Armed Forces Professions 90 - Other Situation 99 - (blank) 122 - Health professionals 123 - teachers 125 - Specialists in information and communication technologies (ICT) 131 - Intermediate level science and engineering technicians and professions 132 - Technicians and professionals, of intermediate level of health 134 - Intermediate level technicians from legal, social, sports, cultural and similar services 141 - Office workers, secretaries in general and data processing operators 143 - Data, accounting, statistical, financial services and registry-related operators 144 - Other administrative support staff 151 - personal service workers 152 - sellers 153 - Personal care workers and the like 171 - Skilled construction workers and the like, except electricians 173 - Skilled workers in printing, precision instrument manufacturing, jewelers, artisans and the like 175 - Workers in food processing, woodworking, clothing and other industries and crafts 191 - cleaning workers 192 - Unskilled workers in agriculture, animal production, fisheries and forestry 193 - Unskilled workers in extractive industry, construction, manufacturing and transport 194 - Meal preparation assistants\n",
    "# Admission grade: Admission grade (between 0 and 200)\n",
    "# Displaced: 1 – yes 0 – no\n",
    "# Educational special needs: 1 – yes 0 – no\n",
    "# Debtor: 1 – yes 0 – no\n",
    "# Tuition fees up to date: 1 – yes 0 – no\n",
    "# Gender: 1 – male 0 – female\n",
    "# Scholarship holder: 1 – yes 0 – no\n",
    "# Age at enrollment: Age of studend at enrollment\n",
    "# International: 1 – yes 0 – no\n",
    "# Curricular units 1st sem (credited): Number of curricular units credited in the 1st semester\n",
    "# Curricular units 1st sem (enrolled): Number of curricular units enrolled in the 1st semester\n",
    "# Curricular units 1st sem (evaluations): Number of evaluations to curricular units in the 1st semester\n",
    "# Curricular units 1st sem (approved): Number of curricular units approved in the 1st semester\t\n",
    "# Curricular units 1st sem (grade): Grade average in the 1st semester (between 0 and 20)\n",
    "# Curricular units 1st sem (without evaluations): Number of curricular units without evalutions in the 1st semester\n",
    "# Curricular units 2nd sem (credited): Number of curricular units credited in the 2nd semester\t\n",
    "# Curricular units 2nd sem (enrolled): Number of curricular units enrolled in the 2nd semester\t\n",
    "# Curricular units 2nd sem (evaluations): Number of evaluations to curricular units in the 2nd semester\n",
    "# Curricular units 2nd sem (approved): Number of curricular units approved in the 2nd semester\t\n",
    "# Curricular units 2nd sem (grade): Grade average in the 2nd semester (between 0 and 20)\t\n",
    "# Curricular units 2nd sem (without evaluations): Number of curricular units without evalutions in the 1st semester\n",
    "# Unemployment rate: Unemployment rate (%)\n",
    "# Inflation rate: Inflation rate (%)\n",
    "# GDP: GDP\n",
    "# Target: Target. The problem is formulated as a three category classification task (dropout, enrolled, and graduate) at the end of the normal duration of the courseing\n",
    "\n",
    "\n",
    "\n",
    "\n",
    "# Data quality\n",
    "\n",
    "idx = df.duplicated()\n",
    "len(df[idx])\n",
    "\n",
    "# There are no missing values in this dataset, as indicated by the data editor on dataset information page \n",
    "#     from the UCI Irvine website\n",
    "\n",
    "# There are no duplicate data values in this dataset\n",
    "\n",
    "# Imputation: replacing all course numbers with course names because the numbers aren't hierarchical, and the names\n",
    "#    are more meaningful, as we can analyze the difficulty of the concepts\n",
    "\n",
    "df[\"Course\"].replace(to_replace = [33, 171, 8014, 9003, 9070, 9085, 9119, 9130, 9147, 9238, 9254, 9500, 9556, 9670, 9773, 9853, 9991],\n",
    "                    value = [\"Biofuel production\", \"Animation and multimedia\", \"Social service (evening)\", \"Agronomy\", \"Communication design\", \"Veterinary nursing\", \n",
    "                            \"Informatics engineering\", \"Equinculture\", \"Management\", \"Social service\", \"Tourism\", \"Nursing\", \"Oral hygiene\", \"Advertising and marketing management\",\n",
    "                            \"Journalism and communication\", \"Basic Education\", \"Management (evening)\"], inplace = True)\n",
    "\n",
    "df[\"Course\"]\n",
    "\n",
    "# Imputation: correct the mispelling of \"Nationality\"\n",
    "\n",
    "# Imputation: replacing all nationality numers with nationality names because the numbers aren't hierarchical, and the names\n",
    "#    are more meaningful, as we can analyze where students come from\n",
    "\n",
    "df.rename(columns = {\"Nacionality\":\"Nationality\"}, inplace = True)\n",
    "\n",
    "df[\"Nationality\"].replace(to_replace = [1, 2, 6, 11, 13, 14, 17, 21, 22, 24, 25, 26, 32, 41, 62, 100, 101, 103, 105, 108, 109],\n",
    "                         value = [\"Portuguese\", \"German\", \"Spanish\", \"Italian\", \"Dutch\", \"English\", \"Lithuanian\", \"Angolan\", \"Cape Verdean\", \n",
    "                                  \"Guinean\", \"Mozambican\", \"Santomean\", \"Turkish\", \"Brazillian\", \"Romanian\", \"Rep. of Moldova\", \"Mexican\", \"Ukranian\", \n",
    "                                  \"Russian\", \"Cuban\", \"Colombian\"], inplace = True)\n",
    "df[\"Nationality\"]\n",
    "\n",
    "\n",
    "# Numerical data summary of all variables with numerical values (categorical variables excluded)\n",
    "\n",
    "# Data summary: 18 attributes\n",
    "\n",
    "summary1 = df.iloc[0:, 0:20]\n",
    "summary1.describe()\n",
    "\n",
    "# Data summary: 16 attributes\n",
    "\n",
    "summary2 = df.iloc[0:, 20:38]\n",
    "summary2.describe()\n",
    "\n",
    "# Data summary needed to be expressed this way because all the attributes wouldn't fit in one display (\"...\" in the middle hid values)\n",
    "\n",
    "\n",
    "\n",
    "\n",
    "\n",
    "\n",
    "\n"
   ]
  },
  {
   "cell_type": "markdown",
   "id": "f50e7bb3",
   "metadata": {},
   "source": [
    "### 2.3 - Ayan"
   ]
  },
  {
   "cell_type": "code",
   "execution_count": null,
   "id": "ac1514c2",
   "metadata": {},
   "outputs": [],
   "source": []
  },
  {
   "cell_type": "markdown",
   "id": "7cf1dbb4",
   "metadata": {},
   "source": [
    "## 3. Data Visualization"
   ]
  }
 ],
 "metadata": {
  "kernelspec": {
   "display_name": "Python 3 (ipykernel)",
   "language": "python",
   "name": "python3"
  },
  "language_info": {
   "codemirror_mode": {
    "name": "ipython",
    "version": 3
   },
   "file_extension": ".py",
   "mimetype": "text/x-python",
   "name": "python",
   "nbconvert_exporter": "python",
   "pygments_lexer": "ipython3",
   "version": "3.9.6"
  }
 },
 "nbformat": 4,
 "nbformat_minor": 5
}
