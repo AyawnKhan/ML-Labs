{
  "cells": [
    {
      "cell_type": "markdown",
      "metadata": {
        "id": "RG1D91-7jbpx"
      },
      "source": [
        "**5000 Level: Anika Saiprabhu, Ayan Khan, Victoria Valdez**"
      ]
    },
    {
      "cell_type": "markdown",
      "metadata": {
        "id": "a795XZPZjiNp"
      },
      "source": [
        "# 1. Preparation and Overview"
      ]
    },
    {
      "cell_type": "markdown",
      "metadata": {
        "id": "ZGGTR9c1jml6"
      },
      "source": [
        "## 1.1 Business Understanding"
      ]
    },
    {
      "cell_type": "markdown",
      "metadata": {
        "id": "HNWXHjwVj39J"
      },
      "source": [
        "This report focuses on wine quality, explaining whether or not certain factors of wine can predict its quality.  Such information can be used by the wine industry to predict whether their products will be of high quality or not without having to directly sample the product itself, or risk misinforming the customer.\n",
        "\n",
        "\n",
        "The dataset we chose is Wine Quality data from the following UC Irvine dataset: https://archive.ics.uci.edu/dataset/186/wine+quality.\n",
        "\n",
        "\n",
        "This data includes 6497 instances of different types of wines (total of red and white), featuring 11 different categories:\n",
        "> fixed acidity, volatile acidity, citric acid, residual sugar, chlorides, free sulfur dioxide, total sulfur dioxide, density, pH, sulphates, and alcohol.  Quality is the target and color is a miscellaneous category, mostly used to keep red and white wines separate.  However, for the purpose of this analysis, we will collate red and white wines.\n",
        "\n",
        "\n",
        "\n",
        "For our classifier to be useful, it needs to be able to deliver accuracies higher than 33%. We chose this number because, after processing the data, we will be working with 3 qualities of wine, with 1 being the lowest and 3 being the highest. Since there are 3 qualities, the classifier has a 33% chance of picking the correct quality by random chance alone. To prove that our classifier is classifying correctly by its algorithm and not random chance, it needs to demonstrate accuracy rates higher than 33%.\n",
        "\n",
        "\n",
        "We hope our analysis can help wine companies better inform their customers. Without directly sampling the wine, manufacturers have to measure other physical characteristics of wine to guage the quality of the product. Since wine is expensive, it matters that wine companies deliver the most accurate ratings of their product.\n",
        "\n",
        "\n",
        "Thus, our main goal with this analysis is to identify effective ways to accurately report the quality of wine to better ensure trust between manufacturers and consumers."
      ]
    },
    {
      "cell_type": "markdown",
      "metadata": {
        "id": "EH9ypmD7jrVd"
      },
      "source": [
        "## 1.2 Data Preparation\n"
      ]
    },
    {
      "cell_type": "markdown",
      "metadata": {
        "id": "1AOYrMmCkJs4"
      },
      "source": [
        "To begin, we will process the data to better help with our analysis"
      ]
    },
    {
      "cell_type": "markdown",
      "metadata": {
        "id": "pbzBK-qvlPNj"
      },
      "source": [
        "### 1.2.1 Imports and Reading Data"
      ]
    },
    {
      "cell_type": "markdown",
      "metadata": {
        "id": "lEKFZeJQYvTB"
      },
      "source": [
        "For this assignment, we used Google Colab to code parts of the project together as a team. To begin, we cloned  a Github repository where the data was saved. We also imported and installed most of the necessary libraries at the top of the notebook."
      ]
    },
    {
      "cell_type": "code",
      "execution_count": 1,
      "metadata": {
        "id": "kzWjx_I-lOhq"
      },
      "outputs": [],
      "source": [
        "import numpy as np\n",
        "from numpy import asarray\n",
        "import pandas as pd\n",
        "import matplotlib.pyplot as plt\n",
        "import seaborn as sns\n",
        "import time\n",
        "import os\n",
        "from sklearn.linear_model import LogisticRegression as SKLogisticRegression\n",
        "from sklearn.model_selection import train_test_split\n",
        "import plotly\n",
        "from sklearn.metrics import accuracy_score"
      ]
    },
    {
      "cell_type": "code",
      "execution_count": 2,
      "metadata": {
        "colab": {
          "base_uri": "https://localhost:8080/"
        },
        "id": "8EoLeomnYv-D",
        "outputId": "3b57ac54-f0df-4491-cbf5-44131cc839d0"
      },
      "outputs": [
        {
          "output_type": "stream",
          "name": "stdout",
          "text": [
            "fatal: destination path 'ML-Labs' already exists and is not an empty directory.\n"
          ]
        }
      ],
      "source": [
        "if (not os.path.isdir('/ML-Labs')): # checks if the git is already cloned\n",
        "  !git clone https://github.com/AyawnKhan/ML-Labs.git"
      ]
    },
    {
      "cell_type": "code",
      "execution_count": 3,
      "metadata": {
        "colab": {
          "base_uri": "https://localhost:8080/"
        },
        "id": "ZnBAvFHbY4kl",
        "outputId": "be5608cc-307b-4acd-dcef-cd872d4f8bc3"
      },
      "outputs": [
        {
          "output_type": "stream",
          "name": "stdout",
          "text": [
            "New working directory:  /content/ML-Labs/Lab3\n"
          ]
        }
      ],
      "source": [
        "# Colab defaults to the \"content\" directory\n",
        "# This code changes the working directory to the data directory\n",
        "if (os.getcwd() == '/content' and os.getcwd() != './ML-Labs/Lab3'):\n",
        "  os.chdir('./ML-Labs/Lab3')\n",
        "print(\"New working directory: \",os.getcwd()) # Check that new working dirctory is right"
      ]
    },
    {
      "cell_type": "markdown",
      "metadata": {
        "id": "RwW_bH0w2ewE"
      },
      "source": [
        "Reading in the data"
      ]
    },
    {
      "cell_type": "code",
      "execution_count": 4,
      "metadata": {
        "id": "vN0IwFWfPIBH",
        "colab": {
          "base_uri": "https://localhost:8080/",
          "height": 582
        },
        "outputId": "440ca564-292b-4a05-ccbc-42b69d389342"
      },
      "outputs": [
        {
          "output_type": "stream",
          "name": "stdout",
          "text": [
            "length of white: 4898\n",
            "length of red: 1599\n",
            "combined length of red and white: 6497 = combined length of dataframe: 6497\n",
            "\n"
          ]
        },
        {
          "output_type": "stream",
          "name": "stderr",
          "text": [
            "<ipython-input-4-d265a0c79d56>:8: FutureWarning: The frame.append method is deprecated and will be removed from pandas in a future version. Use pandas.concat instead.\n",
            "  df = df_white.append(df_red, ignore_index = True)\n"
          ]
        },
        {
          "output_type": "execute_result",
          "data": {
            "text/plain": [
              "      fixed acidity  volatile acidity  citric acid  residual sugar  chlorides  \\\n",
              "0               7.0             0.270         0.36            20.7      0.045   \n",
              "1               6.3             0.300         0.34             1.6      0.049   \n",
              "2               8.1             0.280         0.40             6.9      0.050   \n",
              "3               7.2             0.230         0.32             8.5      0.058   \n",
              "4               7.2             0.230         0.32             8.5      0.058   \n",
              "...             ...               ...          ...             ...        ...   \n",
              "6492            6.2             0.600         0.08             2.0      0.090   \n",
              "6493            5.9             0.550         0.10             2.2      0.062   \n",
              "6494            6.3             0.510         0.13             2.3      0.076   \n",
              "6495            5.9             0.645         0.12             2.0      0.075   \n",
              "6496            6.0             0.310         0.47             3.6      0.067   \n",
              "\n",
              "      free sulfur dioxide  total sulfur dioxide  density    pH  sulphates  \\\n",
              "0                    45.0                 170.0  1.00100  3.00       0.45   \n",
              "1                    14.0                 132.0  0.99400  3.30       0.49   \n",
              "2                    30.0                  97.0  0.99510  3.26       0.44   \n",
              "3                    47.0                 186.0  0.99560  3.19       0.40   \n",
              "4                    47.0                 186.0  0.99560  3.19       0.40   \n",
              "...                   ...                   ...      ...   ...        ...   \n",
              "6492                 32.0                  44.0  0.99490  3.45       0.58   \n",
              "6493                 39.0                  51.0  0.99512  3.52       0.76   \n",
              "6494                 29.0                  40.0  0.99574  3.42       0.75   \n",
              "6495                 32.0                  44.0  0.99547  3.57       0.71   \n",
              "6496                 18.0                  42.0  0.99549  3.39       0.66   \n",
              "\n",
              "      alcohol  quality  color  \n",
              "0         8.8        6  white  \n",
              "1         9.5        6  white  \n",
              "2        10.1        6  white  \n",
              "3         9.9        6  white  \n",
              "4         9.9        6  white  \n",
              "...       ...      ...    ...  \n",
              "6492     10.5        5    red  \n",
              "6493     11.2        6    red  \n",
              "6494     11.0        6    red  \n",
              "6495     10.2        5    red  \n",
              "6496     11.0        6    red  \n",
              "\n",
              "[6497 rows x 13 columns]"
            ],
            "text/html": [
              "\n",
              "  <div id=\"df-d7faab78-e77c-4b47-b104-e0aef0f83e5b\" class=\"colab-df-container\">\n",
              "    <div>\n",
              "<style scoped>\n",
              "    .dataframe tbody tr th:only-of-type {\n",
              "        vertical-align: middle;\n",
              "    }\n",
              "\n",
              "    .dataframe tbody tr th {\n",
              "        vertical-align: top;\n",
              "    }\n",
              "\n",
              "    .dataframe thead th {\n",
              "        text-align: right;\n",
              "    }\n",
              "</style>\n",
              "<table border=\"1\" class=\"dataframe\">\n",
              "  <thead>\n",
              "    <tr style=\"text-align: right;\">\n",
              "      <th></th>\n",
              "      <th>fixed acidity</th>\n",
              "      <th>volatile acidity</th>\n",
              "      <th>citric acid</th>\n",
              "      <th>residual sugar</th>\n",
              "      <th>chlorides</th>\n",
              "      <th>free sulfur dioxide</th>\n",
              "      <th>total sulfur dioxide</th>\n",
              "      <th>density</th>\n",
              "      <th>pH</th>\n",
              "      <th>sulphates</th>\n",
              "      <th>alcohol</th>\n",
              "      <th>quality</th>\n",
              "      <th>color</th>\n",
              "    </tr>\n",
              "  </thead>\n",
              "  <tbody>\n",
              "    <tr>\n",
              "      <th>0</th>\n",
              "      <td>7.0</td>\n",
              "      <td>0.270</td>\n",
              "      <td>0.36</td>\n",
              "      <td>20.7</td>\n",
              "      <td>0.045</td>\n",
              "      <td>45.0</td>\n",
              "      <td>170.0</td>\n",
              "      <td>1.00100</td>\n",
              "      <td>3.00</td>\n",
              "      <td>0.45</td>\n",
              "      <td>8.8</td>\n",
              "      <td>6</td>\n",
              "      <td>white</td>\n",
              "    </tr>\n",
              "    <tr>\n",
              "      <th>1</th>\n",
              "      <td>6.3</td>\n",
              "      <td>0.300</td>\n",
              "      <td>0.34</td>\n",
              "      <td>1.6</td>\n",
              "      <td>0.049</td>\n",
              "      <td>14.0</td>\n",
              "      <td>132.0</td>\n",
              "      <td>0.99400</td>\n",
              "      <td>3.30</td>\n",
              "      <td>0.49</td>\n",
              "      <td>9.5</td>\n",
              "      <td>6</td>\n",
              "      <td>white</td>\n",
              "    </tr>\n",
              "    <tr>\n",
              "      <th>2</th>\n",
              "      <td>8.1</td>\n",
              "      <td>0.280</td>\n",
              "      <td>0.40</td>\n",
              "      <td>6.9</td>\n",
              "      <td>0.050</td>\n",
              "      <td>30.0</td>\n",
              "      <td>97.0</td>\n",
              "      <td>0.99510</td>\n",
              "      <td>3.26</td>\n",
              "      <td>0.44</td>\n",
              "      <td>10.1</td>\n",
              "      <td>6</td>\n",
              "      <td>white</td>\n",
              "    </tr>\n",
              "    <tr>\n",
              "      <th>3</th>\n",
              "      <td>7.2</td>\n",
              "      <td>0.230</td>\n",
              "      <td>0.32</td>\n",
              "      <td>8.5</td>\n",
              "      <td>0.058</td>\n",
              "      <td>47.0</td>\n",
              "      <td>186.0</td>\n",
              "      <td>0.99560</td>\n",
              "      <td>3.19</td>\n",
              "      <td>0.40</td>\n",
              "      <td>9.9</td>\n",
              "      <td>6</td>\n",
              "      <td>white</td>\n",
              "    </tr>\n",
              "    <tr>\n",
              "      <th>4</th>\n",
              "      <td>7.2</td>\n",
              "      <td>0.230</td>\n",
              "      <td>0.32</td>\n",
              "      <td>8.5</td>\n",
              "      <td>0.058</td>\n",
              "      <td>47.0</td>\n",
              "      <td>186.0</td>\n",
              "      <td>0.99560</td>\n",
              "      <td>3.19</td>\n",
              "      <td>0.40</td>\n",
              "      <td>9.9</td>\n",
              "      <td>6</td>\n",
              "      <td>white</td>\n",
              "    </tr>\n",
              "    <tr>\n",
              "      <th>...</th>\n",
              "      <td>...</td>\n",
              "      <td>...</td>\n",
              "      <td>...</td>\n",
              "      <td>...</td>\n",
              "      <td>...</td>\n",
              "      <td>...</td>\n",
              "      <td>...</td>\n",
              "      <td>...</td>\n",
              "      <td>...</td>\n",
              "      <td>...</td>\n",
              "      <td>...</td>\n",
              "      <td>...</td>\n",
              "      <td>...</td>\n",
              "    </tr>\n",
              "    <tr>\n",
              "      <th>6492</th>\n",
              "      <td>6.2</td>\n",
              "      <td>0.600</td>\n",
              "      <td>0.08</td>\n",
              "      <td>2.0</td>\n",
              "      <td>0.090</td>\n",
              "      <td>32.0</td>\n",
              "      <td>44.0</td>\n",
              "      <td>0.99490</td>\n",
              "      <td>3.45</td>\n",
              "      <td>0.58</td>\n",
              "      <td>10.5</td>\n",
              "      <td>5</td>\n",
              "      <td>red</td>\n",
              "    </tr>\n",
              "    <tr>\n",
              "      <th>6493</th>\n",
              "      <td>5.9</td>\n",
              "      <td>0.550</td>\n",
              "      <td>0.10</td>\n",
              "      <td>2.2</td>\n",
              "      <td>0.062</td>\n",
              "      <td>39.0</td>\n",
              "      <td>51.0</td>\n",
              "      <td>0.99512</td>\n",
              "      <td>3.52</td>\n",
              "      <td>0.76</td>\n",
              "      <td>11.2</td>\n",
              "      <td>6</td>\n",
              "      <td>red</td>\n",
              "    </tr>\n",
              "    <tr>\n",
              "      <th>6494</th>\n",
              "      <td>6.3</td>\n",
              "      <td>0.510</td>\n",
              "      <td>0.13</td>\n",
              "      <td>2.3</td>\n",
              "      <td>0.076</td>\n",
              "      <td>29.0</td>\n",
              "      <td>40.0</td>\n",
              "      <td>0.99574</td>\n",
              "      <td>3.42</td>\n",
              "      <td>0.75</td>\n",
              "      <td>11.0</td>\n",
              "      <td>6</td>\n",
              "      <td>red</td>\n",
              "    </tr>\n",
              "    <tr>\n",
              "      <th>6495</th>\n",
              "      <td>5.9</td>\n",
              "      <td>0.645</td>\n",
              "      <td>0.12</td>\n",
              "      <td>2.0</td>\n",
              "      <td>0.075</td>\n",
              "      <td>32.0</td>\n",
              "      <td>44.0</td>\n",
              "      <td>0.99547</td>\n",
              "      <td>3.57</td>\n",
              "      <td>0.71</td>\n",
              "      <td>10.2</td>\n",
              "      <td>5</td>\n",
              "      <td>red</td>\n",
              "    </tr>\n",
              "    <tr>\n",
              "      <th>6496</th>\n",
              "      <td>6.0</td>\n",
              "      <td>0.310</td>\n",
              "      <td>0.47</td>\n",
              "      <td>3.6</td>\n",
              "      <td>0.067</td>\n",
              "      <td>18.0</td>\n",
              "      <td>42.0</td>\n",
              "      <td>0.99549</td>\n",
              "      <td>3.39</td>\n",
              "      <td>0.66</td>\n",
              "      <td>11.0</td>\n",
              "      <td>6</td>\n",
              "      <td>red</td>\n",
              "    </tr>\n",
              "  </tbody>\n",
              "</table>\n",
              "<p>6497 rows × 13 columns</p>\n",
              "</div>\n",
              "    <div class=\"colab-df-buttons\">\n",
              "\n",
              "  <div class=\"colab-df-container\">\n",
              "    <button class=\"colab-df-convert\" onclick=\"convertToInteractive('df-d7faab78-e77c-4b47-b104-e0aef0f83e5b')\"\n",
              "            title=\"Convert this dataframe to an interactive table.\"\n",
              "            style=\"display:none;\">\n",
              "\n",
              "  <svg xmlns=\"http://www.w3.org/2000/svg\" height=\"24px\" viewBox=\"0 -960 960 960\">\n",
              "    <path d=\"M120-120v-720h720v720H120Zm60-500h600v-160H180v160Zm220 220h160v-160H400v160Zm0 220h160v-160H400v160ZM180-400h160v-160H180v160Zm440 0h160v-160H620v160ZM180-180h160v-160H180v160Zm440 0h160v-160H620v160Z\"/>\n",
              "  </svg>\n",
              "    </button>\n",
              "\n",
              "  <style>\n",
              "    .colab-df-container {\n",
              "      display:flex;\n",
              "      gap: 12px;\n",
              "    }\n",
              "\n",
              "    .colab-df-convert {\n",
              "      background-color: #E8F0FE;\n",
              "      border: none;\n",
              "      border-radius: 50%;\n",
              "      cursor: pointer;\n",
              "      display: none;\n",
              "      fill: #1967D2;\n",
              "      height: 32px;\n",
              "      padding: 0 0 0 0;\n",
              "      width: 32px;\n",
              "    }\n",
              "\n",
              "    .colab-df-convert:hover {\n",
              "      background-color: #E2EBFA;\n",
              "      box-shadow: 0px 1px 2px rgba(60, 64, 67, 0.3), 0px 1px 3px 1px rgba(60, 64, 67, 0.15);\n",
              "      fill: #174EA6;\n",
              "    }\n",
              "\n",
              "    .colab-df-buttons div {\n",
              "      margin-bottom: 4px;\n",
              "    }\n",
              "\n",
              "    [theme=dark] .colab-df-convert {\n",
              "      background-color: #3B4455;\n",
              "      fill: #D2E3FC;\n",
              "    }\n",
              "\n",
              "    [theme=dark] .colab-df-convert:hover {\n",
              "      background-color: #434B5C;\n",
              "      box-shadow: 0px 1px 3px 1px rgba(0, 0, 0, 0.15);\n",
              "      filter: drop-shadow(0px 1px 2px rgba(0, 0, 0, 0.3));\n",
              "      fill: #FFFFFF;\n",
              "    }\n",
              "  </style>\n",
              "\n",
              "    <script>\n",
              "      const buttonEl =\n",
              "        document.querySelector('#df-d7faab78-e77c-4b47-b104-e0aef0f83e5b button.colab-df-convert');\n",
              "      buttonEl.style.display =\n",
              "        google.colab.kernel.accessAllowed ? 'block' : 'none';\n",
              "\n",
              "      async function convertToInteractive(key) {\n",
              "        const element = document.querySelector('#df-d7faab78-e77c-4b47-b104-e0aef0f83e5b');\n",
              "        const dataTable =\n",
              "          await google.colab.kernel.invokeFunction('convertToInteractive',\n",
              "                                                    [key], {});\n",
              "        if (!dataTable) return;\n",
              "\n",
              "        const docLinkHtml = 'Like what you see? Visit the ' +\n",
              "          '<a target=\"_blank\" href=https://colab.research.google.com/notebooks/data_table.ipynb>data table notebook</a>'\n",
              "          + ' to learn more about interactive tables.';\n",
              "        element.innerHTML = '';\n",
              "        dataTable['output_type'] = 'display_data';\n",
              "        await google.colab.output.renderOutput(dataTable, element);\n",
              "        const docLink = document.createElement('div');\n",
              "        docLink.innerHTML = docLinkHtml;\n",
              "        element.appendChild(docLink);\n",
              "      }\n",
              "    </script>\n",
              "  </div>\n",
              "\n",
              "\n",
              "<div id=\"df-23478e82-1d6e-4114-a804-dbc5cc600e36\">\n",
              "  <button class=\"colab-df-quickchart\" onclick=\"quickchart('df-23478e82-1d6e-4114-a804-dbc5cc600e36')\"\n",
              "            title=\"Suggest charts\"\n",
              "            style=\"display:none;\">\n",
              "\n",
              "<svg xmlns=\"http://www.w3.org/2000/svg\" height=\"24px\"viewBox=\"0 0 24 24\"\n",
              "     width=\"24px\">\n",
              "    <g>\n",
              "        <path d=\"M19 3H5c-1.1 0-2 .9-2 2v14c0 1.1.9 2 2 2h14c1.1 0 2-.9 2-2V5c0-1.1-.9-2-2-2zM9 17H7v-7h2v7zm4 0h-2V7h2v10zm4 0h-2v-4h2v4z\"/>\n",
              "    </g>\n",
              "</svg>\n",
              "  </button>\n",
              "\n",
              "<style>\n",
              "  .colab-df-quickchart {\n",
              "      --bg-color: #E8F0FE;\n",
              "      --fill-color: #1967D2;\n",
              "      --hover-bg-color: #E2EBFA;\n",
              "      --hover-fill-color: #174EA6;\n",
              "      --disabled-fill-color: #AAA;\n",
              "      --disabled-bg-color: #DDD;\n",
              "  }\n",
              "\n",
              "  [theme=dark] .colab-df-quickchart {\n",
              "      --bg-color: #3B4455;\n",
              "      --fill-color: #D2E3FC;\n",
              "      --hover-bg-color: #434B5C;\n",
              "      --hover-fill-color: #FFFFFF;\n",
              "      --disabled-bg-color: #3B4455;\n",
              "      --disabled-fill-color: #666;\n",
              "  }\n",
              "\n",
              "  .colab-df-quickchart {\n",
              "    background-color: var(--bg-color);\n",
              "    border: none;\n",
              "    border-radius: 50%;\n",
              "    cursor: pointer;\n",
              "    display: none;\n",
              "    fill: var(--fill-color);\n",
              "    height: 32px;\n",
              "    padding: 0;\n",
              "    width: 32px;\n",
              "  }\n",
              "\n",
              "  .colab-df-quickchart:hover {\n",
              "    background-color: var(--hover-bg-color);\n",
              "    box-shadow: 0 1px 2px rgba(60, 64, 67, 0.3), 0 1px 3px 1px rgba(60, 64, 67, 0.15);\n",
              "    fill: var(--button-hover-fill-color);\n",
              "  }\n",
              "\n",
              "  .colab-df-quickchart-complete:disabled,\n",
              "  .colab-df-quickchart-complete:disabled:hover {\n",
              "    background-color: var(--disabled-bg-color);\n",
              "    fill: var(--disabled-fill-color);\n",
              "    box-shadow: none;\n",
              "  }\n",
              "\n",
              "  .colab-df-spinner {\n",
              "    border: 2px solid var(--fill-color);\n",
              "    border-color: transparent;\n",
              "    border-bottom-color: var(--fill-color);\n",
              "    animation:\n",
              "      spin 1s steps(1) infinite;\n",
              "  }\n",
              "\n",
              "  @keyframes spin {\n",
              "    0% {\n",
              "      border-color: transparent;\n",
              "      border-bottom-color: var(--fill-color);\n",
              "      border-left-color: var(--fill-color);\n",
              "    }\n",
              "    20% {\n",
              "      border-color: transparent;\n",
              "      border-left-color: var(--fill-color);\n",
              "      border-top-color: var(--fill-color);\n",
              "    }\n",
              "    30% {\n",
              "      border-color: transparent;\n",
              "      border-left-color: var(--fill-color);\n",
              "      border-top-color: var(--fill-color);\n",
              "      border-right-color: var(--fill-color);\n",
              "    }\n",
              "    40% {\n",
              "      border-color: transparent;\n",
              "      border-right-color: var(--fill-color);\n",
              "      border-top-color: var(--fill-color);\n",
              "    }\n",
              "    60% {\n",
              "      border-color: transparent;\n",
              "      border-right-color: var(--fill-color);\n",
              "    }\n",
              "    80% {\n",
              "      border-color: transparent;\n",
              "      border-right-color: var(--fill-color);\n",
              "      border-bottom-color: var(--fill-color);\n",
              "    }\n",
              "    90% {\n",
              "      border-color: transparent;\n",
              "      border-bottom-color: var(--fill-color);\n",
              "    }\n",
              "  }\n",
              "</style>\n",
              "\n",
              "  <script>\n",
              "    async function quickchart(key) {\n",
              "      const quickchartButtonEl =\n",
              "        document.querySelector('#' + key + ' button');\n",
              "      quickchartButtonEl.disabled = true;  // To prevent multiple clicks.\n",
              "      quickchartButtonEl.classList.add('colab-df-spinner');\n",
              "      try {\n",
              "        const charts = await google.colab.kernel.invokeFunction(\n",
              "            'suggestCharts', [key], {});\n",
              "      } catch (error) {\n",
              "        console.error('Error during call to suggestCharts:', error);\n",
              "      }\n",
              "      quickchartButtonEl.classList.remove('colab-df-spinner');\n",
              "      quickchartButtonEl.classList.add('colab-df-quickchart-complete');\n",
              "    }\n",
              "    (() => {\n",
              "      let quickchartButtonEl =\n",
              "        document.querySelector('#df-23478e82-1d6e-4114-a804-dbc5cc600e36 button');\n",
              "      quickchartButtonEl.style.display =\n",
              "        google.colab.kernel.accessAllowed ? 'block' : 'none';\n",
              "    })();\n",
              "  </script>\n",
              "</div>\n",
              "\n",
              "  <div id=\"id_57ad431a-2f61-4c30-a92d-1631991ba89b\">\n",
              "    <style>\n",
              "      .colab-df-generate {\n",
              "        background-color: #E8F0FE;\n",
              "        border: none;\n",
              "        border-radius: 50%;\n",
              "        cursor: pointer;\n",
              "        display: none;\n",
              "        fill: #1967D2;\n",
              "        height: 32px;\n",
              "        padding: 0 0 0 0;\n",
              "        width: 32px;\n",
              "      }\n",
              "\n",
              "      .colab-df-generate:hover {\n",
              "        background-color: #E2EBFA;\n",
              "        box-shadow: 0px 1px 2px rgba(60, 64, 67, 0.3), 0px 1px 3px 1px rgba(60, 64, 67, 0.15);\n",
              "        fill: #174EA6;\n",
              "      }\n",
              "\n",
              "      [theme=dark] .colab-df-generate {\n",
              "        background-color: #3B4455;\n",
              "        fill: #D2E3FC;\n",
              "      }\n",
              "\n",
              "      [theme=dark] .colab-df-generate:hover {\n",
              "        background-color: #434B5C;\n",
              "        box-shadow: 0px 1px 3px 1px rgba(0, 0, 0, 0.15);\n",
              "        filter: drop-shadow(0px 1px 2px rgba(0, 0, 0, 0.3));\n",
              "        fill: #FFFFFF;\n",
              "      }\n",
              "    </style>\n",
              "    <button class=\"colab-df-generate\" onclick=\"generateWithVariable('df')\"\n",
              "            title=\"Generate code using this dataframe.\"\n",
              "            style=\"display:none;\">\n",
              "\n",
              "  <svg xmlns=\"http://www.w3.org/2000/svg\" height=\"24px\"viewBox=\"0 0 24 24\"\n",
              "       width=\"24px\">\n",
              "    <path d=\"M7,19H8.4L18.45,9,17,7.55,7,17.6ZM5,21V16.75L18.45,3.32a2,2,0,0,1,2.83,0l1.4,1.43a1.91,1.91,0,0,1,.58,1.4,1.91,1.91,0,0,1-.58,1.4L9.25,21ZM18.45,9,17,7.55Zm-12,3A5.31,5.31,0,0,0,4.9,8.1,5.31,5.31,0,0,0,1,6.5,5.31,5.31,0,0,0,4.9,4.9,5.31,5.31,0,0,0,6.5,1,5.31,5.31,0,0,0,8.1,4.9,5.31,5.31,0,0,0,12,6.5,5.46,5.46,0,0,0,6.5,12Z\"/>\n",
              "  </svg>\n",
              "    </button>\n",
              "    <script>\n",
              "      (() => {\n",
              "      const buttonEl =\n",
              "        document.querySelector('#id_57ad431a-2f61-4c30-a92d-1631991ba89b button.colab-df-generate');\n",
              "      buttonEl.style.display =\n",
              "        google.colab.kernel.accessAllowed ? 'block' : 'none';\n",
              "\n",
              "      buttonEl.onclick = () => {\n",
              "        google.colab.notebook.generateWithVariable('df');\n",
              "      }\n",
              "      })();\n",
              "    </script>\n",
              "  </div>\n",
              "\n",
              "    </div>\n",
              "  </div>\n"
            ],
            "application/vnd.google.colaboratory.intrinsic+json": {
              "type": "dataframe",
              "variable_name": "df",
              "summary": "{\n  \"name\": \"df\",\n  \"rows\": 6497,\n  \"fields\": [\n    {\n      \"column\": \"fixed acidity\",\n      \"properties\": {\n        \"dtype\": \"number\",\n        \"std\": 1.2964337577998155,\n        \"min\": 3.8,\n        \"max\": 15.9,\n        \"num_unique_values\": 106,\n        \"samples\": [\n          14.3,\n          6.5,\n          6.2\n        ],\n        \"semantic_type\": \"\",\n        \"description\": \"\"\n      }\n    },\n    {\n      \"column\": \"volatile acidity\",\n      \"properties\": {\n        \"dtype\": \"number\",\n        \"std\": 0.16463647408467874,\n        \"min\": 0.08,\n        \"max\": 1.58,\n        \"num_unique_values\": 187,\n        \"samples\": [\n          0.895,\n          0.655,\n          0.585\n        ],\n        \"semantic_type\": \"\",\n        \"description\": \"\"\n      }\n    },\n    {\n      \"column\": \"citric acid\",\n      \"properties\": {\n        \"dtype\": \"number\",\n        \"std\": 0.14531786489759155,\n        \"min\": 0.0,\n        \"max\": 1.66,\n        \"num_unique_values\": 89,\n        \"samples\": [\n          0.45,\n          0.51,\n          0.28\n        ],\n        \"semantic_type\": \"\",\n        \"description\": \"\"\n      }\n    },\n    {\n      \"column\": \"residual sugar\",\n      \"properties\": {\n        \"dtype\": \"number\",\n        \"std\": 4.757803743147418,\n        \"min\": 0.6,\n        \"max\": 65.8,\n        \"num_unique_values\": 316,\n        \"samples\": [\n          14.7,\n          4.9,\n          17.75\n        ],\n        \"semantic_type\": \"\",\n        \"description\": \"\"\n      }\n    },\n    {\n      \"column\": \"chlorides\",\n      \"properties\": {\n        \"dtype\": \"number\",\n        \"std\": 0.03503360137245907,\n        \"min\": 0.009,\n        \"max\": 0.611,\n        \"num_unique_values\": 214,\n        \"samples\": [\n          0.046,\n          0.387,\n          0.09\n        ],\n        \"semantic_type\": \"\",\n        \"description\": \"\"\n      }\n    },\n    {\n      \"column\": \"free sulfur dioxide\",\n      \"properties\": {\n        \"dtype\": \"number\",\n        \"std\": 17.7493997720025,\n        \"min\": 1.0,\n        \"max\": 289.0,\n        \"num_unique_values\": 135,\n        \"samples\": [\n          146.5,\n          64.5,\n          19.5\n        ],\n        \"semantic_type\": \"\",\n        \"description\": \"\"\n      }\n    },\n    {\n      \"column\": \"total sulfur dioxide\",\n      \"properties\": {\n        \"dtype\": \"number\",\n        \"std\": 56.52185452263028,\n        \"min\": 6.0,\n        \"max\": 440.0,\n        \"num_unique_values\": 276,\n        \"samples\": [\n          158.0,\n          194.0,\n          242.0\n        ],\n        \"semantic_type\": \"\",\n        \"description\": \"\"\n      }\n    },\n    {\n      \"column\": \"density\",\n      \"properties\": {\n        \"dtype\": \"number\",\n        \"std\": 0.002998673003719039,\n        \"min\": 0.98711,\n        \"max\": 1.03898,\n        \"num_unique_values\": 998,\n        \"samples\": [\n          0.99144,\n          0.99734,\n          0.99268\n        ],\n        \"semantic_type\": \"\",\n        \"description\": \"\"\n      }\n    },\n    {\n      \"column\": \"pH\",\n      \"properties\": {\n        \"dtype\": \"number\",\n        \"std\": 0.16078720210398764,\n        \"min\": 2.72,\n        \"max\": 4.01,\n        \"num_unique_values\": 108,\n        \"samples\": [\n          2.74,\n          3.25,\n          3.18\n        ],\n        \"semantic_type\": \"\",\n        \"description\": \"\"\n      }\n    },\n    {\n      \"column\": \"sulphates\",\n      \"properties\": {\n        \"dtype\": \"number\",\n        \"std\": 0.14880587361449027,\n        \"min\": 0.22,\n        \"max\": 2.0,\n        \"num_unique_values\": 111,\n        \"samples\": [\n          1.08,\n          0.55,\n          0.47\n        ],\n        \"semantic_type\": \"\",\n        \"description\": \"\"\n      }\n    },\n    {\n      \"column\": \"alcohol\",\n      \"properties\": {\n        \"dtype\": \"number\",\n        \"std\": 1.192711748870993,\n        \"min\": 8.0,\n        \"max\": 14.9,\n        \"num_unique_values\": 111,\n        \"samples\": [\n          12.3333333333333,\n          11.4,\n          9.6\n        ],\n        \"semantic_type\": \"\",\n        \"description\": \"\"\n      }\n    },\n    {\n      \"column\": \"quality\",\n      \"properties\": {\n        \"dtype\": \"number\",\n        \"std\": 0,\n        \"min\": 3,\n        \"max\": 9,\n        \"num_unique_values\": 7,\n        \"samples\": [\n          6,\n          5,\n          3\n        ],\n        \"semantic_type\": \"\",\n        \"description\": \"\"\n      }\n    },\n    {\n      \"column\": \"color\",\n      \"properties\": {\n        \"dtype\": \"category\",\n        \"num_unique_values\": 2,\n        \"samples\": [\n          \"red\",\n          \"white\"\n        ],\n        \"semantic_type\": \"\",\n        \"description\": \"\"\n      }\n    }\n  ]\n}"
            }
          },
          "metadata": {},
          "execution_count": 4
        }
      ],
      "source": [
        "# reads in data\n",
        "df_red = pd.read_csv('winequality-red.csv', sep=';')\n",
        "df_red['color']='red'\n",
        "\n",
        "df_white = pd.read_csv('winequality-white.csv', sep=';')\n",
        "df_white['color']='white'\n",
        "\n",
        "df = df_white.append(df_red, ignore_index = True)\n",
        "\n",
        "# Check if the resulting dataframe contains all entries of red and white by checking lengths\n",
        "print('length of white:',len(df_white))\n",
        "print('length of red:', len(df_red))\n",
        "print('combined length of red and white:', len(df_red) + len(df_white), '= combined length of dataframe:', len(df))\n",
        "print()\n",
        "df"
      ]
    },
    {
      "cell_type": "markdown",
      "metadata": {
        "id": "c4ZASFjZ3Ahy"
      },
      "source": [
        "The following seeks to visualize the distribution of quality ranks in the dataset.  As the graph demonstrates, the majority of the data consists of wines ranked 5, 6, and 7 – most of the data contains average wines."
      ]
    },
    {
      "cell_type": "code",
      "execution_count": 5,
      "metadata": {
        "id": "q6sLt-DI1gBf",
        "colab": {
          "base_uri": "https://localhost:8080/",
          "height": 406
        },
        "outputId": "5ec42927-3a5b-4901-aa63-9a791e70098f"
      },
      "outputs": [
        {
          "output_type": "display_data",
          "data": {
            "text/plain": [
              "<Figure size 640x480 with 1 Axes>"
            ],
            "image/png": "[encoded data removed]"
          },
          "metadata": {}
        }
      ],
      "source": [
        "#df.quality.value_counts().sort_values(ascending=False).plot(kind='bar')\n",
        "\n",
        "# Plot the distribution of default quality rankings in the dataframe\n",
        "# Quality will be the attribute we try to predict\n",
        "plt.pie(df.quality.value_counts(), labels=df.quality.unique())\n",
        "plt.legend()\n",
        "plt.show()"
      ]
    },
    {
      "cell_type": "markdown",
      "metadata": {
        "id": "ELKPtGjS49Zx"
      },
      "source": [
        "### 1.2.2 Data Descriptions"
      ]
    },
    {
      "cell_type": "markdown",
      "metadata": {
        "id": "p_g2cvFG56nP"
      },
      "source": [
        "Described below are each variable and associated information"
      ]
    },
    {
      "cell_type": "code",
      "execution_count": 6,
      "metadata": {
        "id": "ij2nlLxt4-kc",
        "colab": {
          "base_uri": "https://localhost:8080/"
        },
        "outputId": "c05d1a9f-511e-4f60-ec6c-c06d9154cb93"
      },
      "outputs": [
        {
          "output_type": "stream",
          "name": "stdout",
          "text": [
            "Requirement already satisfied: ucimlrepo in /usr/local/lib/python3.10/dist-packages (0.0.3)\n"
          ]
        }
      ],
      "source": [
        "pip install ucimlrepo"
      ]
    },
    {
      "cell_type": "code",
      "execution_count": 7,
      "metadata": {
        "id": "UDpTemnD0zsL",
        "colab": {
          "base_uri": "https://localhost:8080/"
        },
        "outputId": "9e3286e1-1b7f-41c2-e40a-a7e69aac30e4"
      },
      "outputs": [
        {
          "output_type": "stream",
          "name": "stdout",
          "text": [
            "                    name     role         type demographic  \\\n",
            "0          fixed_acidity  Feature   Continuous        None   \n",
            "1       volatile_acidity  Feature   Continuous        None   \n",
            "2            citric_acid  Feature   Continuous        None   \n",
            "3         residual_sugar  Feature   Continuous        None   \n",
            "4              chlorides  Feature   Continuous        None   \n",
            "5    free_sulfur_dioxide  Feature   Continuous        None   \n",
            "6   total_sulfur_dioxide  Feature   Continuous        None   \n",
            "7                density  Feature   Continuous        None   \n",
            "8                     pH  Feature   Continuous        None   \n",
            "9              sulphates  Feature   Continuous        None   \n",
            "10               alcohol  Feature   Continuous        None   \n",
            "11               quality   Target      Integer        None   \n",
            "12                 color    Other  Categorical        None   \n",
            "\n",
            "               description units missing_values  \n",
            "0                     None  None             no  \n",
            "1                     None  None             no  \n",
            "2                     None  None             no  \n",
            "3                     None  None             no  \n",
            "4                     None  None             no  \n",
            "5                     None  None             no  \n",
            "6                     None  None             no  \n",
            "7                     None  None             no  \n",
            "8                     None  None             no  \n",
            "9                     None  None             no  \n",
            "10                    None  None             no  \n",
            "11  score between 0 and 10  None             no  \n",
            "12            red or white  None             no  \n"
          ]
        }
      ],
      "source": [
        "from ucimlrepo import fetch_ucirepo\n",
        "\n",
        "# fetch dataset\n",
        "wine_quality = fetch_ucirepo(id=186)\n",
        "\n",
        "# variable information\n",
        "print(wine_quality.variables)"
      ]
    },
    {
      "cell_type": "markdown",
      "metadata": {
        "id": "2V_8A1Wj6Ke4"
      },
      "source": [
        "Then, we display the data types of each variable"
      ]
    },
    {
      "cell_type": "code",
      "execution_count": 8,
      "metadata": {
        "id": "OYA51w2Z6FcB",
        "colab": {
          "base_uri": "https://localhost:8080/"
        },
        "outputId": "9a0af066-2f5d-4e6b-8bd4-c9a0c8e0b211"
      },
      "outputs": [
        {
          "output_type": "stream",
          "name": "stdout",
          "text": [
            "fixed acidity           float64\n",
            "volatile acidity        float64\n",
            "citric acid             float64\n",
            "residual sugar          float64\n",
            "chlorides               float64\n",
            "free sulfur dioxide     float64\n",
            "total sulfur dioxide    float64\n",
            "density                 float64\n",
            "pH                      float64\n",
            "sulphates               float64\n",
            "alcohol                 float64\n",
            "quality                   int64\n",
            "color                    object\n",
            "dtype: object\n"
          ]
        }
      ],
      "source": [
        "print(df.dtypes)"
      ]
    },
    {
      "cell_type": "markdown",
      "metadata": {
        "id": "9StuaG1r6U4O"
      },
      "source": [
        "Here, we provide a more in-depth breakdown on what the variables indicate:\n",
        "\n",
        "**Fixed acidity**: measure of natural acids found in wine.\n",
        "\n",
        "**Volatile acidity**: measure of gaseous acids found in wine.\n",
        "\n",
        "**Citric acid**: less commonly found in wine, but it's traces of citric acid found in the grapes used to make wine.\n",
        "\n",
        "**Residual sugar**: natural leftover grape sugars post-fermentation.\n",
        "\n",
        "**Chlorides**: a factor that potentially makes wine taste saltier.\n",
        "\n",
        "**Free sulfur dioxide**: unreacted sulfur dioxide found in wine.\n",
        "\n",
        "**Total sulfur dioxide**: sum of unreacted and bonded sulfur dioxide found in wine.\n",
        "\n",
        "**Density**: mass per unit of volume of wine.\n",
        "\n",
        "**pH**: acidic or basic quality of wine.\n",
        "\n",
        "**Sulphates**: help preserve/enhance the wine.\n",
        "\n",
        "**Alcohol**: percent of wine that is alcoholic.\n",
        "\n",
        "**Quality**: a score from 0-10 that measures the quality of wine.\n",
        "\n",
        "**Color**: either red or white."
      ]
    },
    {
      "cell_type": "markdown",
      "metadata": {
        "id": "mf-UFxqcjwOf"
      },
      "source": [
        "### 1.2.3 Cleaning Data"
      ]
    },
    {
      "cell_type": "markdown",
      "metadata": {
        "id": "h9llTmOU2kE9"
      },
      "source": [
        "After reading in the data, we began cleaning the data. We started by removing spaces in the column names to make it easier to access attributes."
      ]
    },
    {
      "cell_type": "code",
      "execution_count": 9,
      "metadata": {
        "id": "6wUc61rKiqXE"
      },
      "outputs": [],
      "source": [
        "# Renaming columns to get rid of spaces, makes it easier for us to access attributes later on\n",
        "\n",
        "df.rename(columns = {\"fixed acidity\":\"fixed_acidity\"}, inplace = True)\n",
        "df.rename(columns = {\"volatile acidity\":\"volatile_acidity\"}, inplace = True)\n",
        "df.rename(columns = {\"citric acid\":\"citric_acid\"}, inplace = True)\n",
        "df.rename(columns = {\"residual sugar\":\"residal_sugar\"}, inplace = True)\n",
        "df.rename(columns = {\"free sulfur dioxide\":\"free_sulfur_dioxide\"}, inplace = True)\n",
        "df.rename(columns = {\"total sulfur dioxide\":\"total_sulfur_dioxide\"}, inplace = True)"
      ]
    },
    {
      "cell_type": "markdown",
      "metadata": {
        "id": "QsM7pEUDclWM"
      },
      "source": [
        "We then converted color to numeric values to pass it in as a parameter to regression"
      ]
    },
    {
      "cell_type": "code",
      "execution_count": 10,
      "metadata": {
        "id": "U6Qr_rSVjUj4",
        "colab": {
          "base_uri": "https://localhost:8080/"
        },
        "outputId": "76d430eb-0be7-41c0-9d81-21c6d87fbf5e"
      },
      "outputs": [
        {
          "output_type": "stream",
          "name": "stderr",
          "text": [
            "<ipython-input-10-7f79d0a9525d>:8: SettingWithCopyWarning: \n",
            "A value is trying to be set on a copy of a slice from a DataFrame\n",
            "\n",
            "See the caveats in the documentation: https://pandas.pydata.org/pandas-docs/stable/user_guide/indexing.html#returning-a-view-versus-a-copy\n",
            "  df.color[x] = 1\n",
            "<ipython-input-10-7f79d0a9525d>:6: SettingWithCopyWarning: \n",
            "A value is trying to be set on a copy of a slice from a DataFrame\n",
            "\n",
            "See the caveats in the documentation: https://pandas.pydata.org/pandas-docs/stable/user_guide/indexing.html#returning-a-view-versus-a-copy\n",
            "  df.color[x] = 0\n"
          ]
        },
        {
          "output_type": "execute_result",
          "data": {
            "text/plain": [
              "0       1\n",
              "1       1\n",
              "2       1\n",
              "3       1\n",
              "4       1\n",
              "       ..\n",
              "6492    0\n",
              "6493    0\n",
              "6494    0\n",
              "6495    0\n",
              "6496    0\n",
              "Name: color, Length: 6497, dtype: object"
            ]
          },
          "metadata": {},
          "execution_count": 10
        }
      ],
      "source": [
        "# Converting color to numeric values\n",
        "\n",
        "for x in range(len(df.color)):\n",
        "  temp = df.color[x]\n",
        "  if temp == 'red':\n",
        "    df.color[x] = 0\n",
        "  if temp == 'white':\n",
        "    df.color[x] = 1\n",
        "\n",
        "df.color"
      ]
    },
    {
      "cell_type": "markdown",
      "metadata": {
        "id": "3hI0Wb5R189m"
      },
      "source": [
        "#### Wine Quality\n",
        "\n",
        "Since there were large amounts of certain qualities, we started our cleaning by converting the wine quality from a numerical score (0-10) to a categorical ranking. These rankings are also indicated by numerical values in order to use them in the regression model:\n",
        "- scores 0 - 5 ==> low quality (1)\n",
        "- scores 6 - 7 ==> medium quality (2)\n",
        "- scores 8 - 10 ==> high quality (3)\n",
        "\n",
        "We stored the counts for these new rankings in a dictionary called quality_ranks."
      ]
    },
    {
      "cell_type": "code",
      "execution_count": 11,
      "metadata": {
        "id": "LmeAR_0vcKqM",
        "colab": {
          "base_uri": "https://localhost:8080/"
        },
        "outputId": "c94469b3-d21a-4ca2-c5b1-a3affa8feaef"
      },
      "outputs": [
        {
          "output_type": "stream",
          "name": "stderr",
          "text": [
            "<ipython-input-11-41084d3fb7ac>:22: SettingWithCopyWarning: \n",
            "A value is trying to be set on a copy of a slice from a DataFrame\n",
            "\n",
            "See the caveats in the documentation: https://pandas.pydata.org/pandas-docs/stable/user_guide/indexing.html#returning-a-view-versus-a-copy\n",
            "  elif df.quality[x] in range(6,8): df.quality[x] = 2 # 6 - 10 --> 2\n",
            "<ipython-input-11-41084d3fb7ac>:21: SettingWithCopyWarning: \n",
            "A value is trying to be set on a copy of a slice from a DataFrame\n",
            "\n",
            "See the caveats in the documentation: https://pandas.pydata.org/pandas-docs/stable/user_guide/indexing.html#returning-a-view-versus-a-copy\n",
            "  if df.quality[x] in range(0,6): df.quality[x] = 1 # 0 - 5 --> 1\n",
            "<ipython-input-11-41084d3fb7ac>:23: SettingWithCopyWarning: \n",
            "A value is trying to be set on a copy of a slice from a DataFrame\n",
            "\n",
            "See the caveats in the documentation: https://pandas.pydata.org/pandas-docs/stable/user_guide/indexing.html#returning-a-view-versus-a-copy\n",
            "  elif df.quality[x] in range(8,11): df.quality[x] = 3 # 6 --> 3\n"
          ]
        },
        {
          "output_type": "stream",
          "name": "stdout",
          "text": [
            "{1: 2384, 2: 3915, 3: 198}\n"
          ]
        }
      ],
      "source": [
        "# Normalizing the quality ranks into 3 categories because of the large amount of middle rankings\n",
        "\n",
        "# Testing if we split the data into 3 categories:\n",
        "# Dictionary = ranking num : counts\n",
        "quality_ranks = {\n",
        "    1 : 0,\n",
        "    2 : 0,\n",
        "    3 : 0,\n",
        "\n",
        "}\n",
        "\n",
        "# Makes Counts\n",
        "for x in range(len(df.quality)):\n",
        "  if df.quality[x] in range(0,6): quality_ranks[1] += 1 # 0 - 5 --> 1\n",
        "  elif df.quality[x] in range(6, 8): quality_ranks[2] += 1 # 6  --> 2\n",
        "  elif df.quality[x] in range(8,11): quality_ranks[3] += 1  # 6+ --> 3\n",
        "\n",
        "\n",
        "# Replaces\n",
        "for x in range(len(df.quality)):\n",
        "  if df.quality[x] in range(0,6): df.quality[x] = 1 # 0 - 5 --> 1\n",
        "  elif df.quality[x] in range(6,8): df.quality[x] = 2 # 6 - 10 --> 2\n",
        "  elif df.quality[x] in range(8,11): df.quality[x] = 3 # 6 --> 3\n",
        "\n",
        "\n",
        "print(quality_ranks)"
      ]
    },
    {
      "cell_type": "markdown",
      "metadata": {
        "id": "IMSV7cfm25U4"
      },
      "source": [
        "We replotted the data with these new categories. You can see that there are substantially more medium quality wines than there are low or high quality wines."
      ]
    },
    {
      "cell_type": "code",
      "execution_count": 12,
      "metadata": {
        "id": "mhgIwieSiAq2",
        "colab": {
          "base_uri": "https://localhost:8080/",
          "height": 406
        },
        "outputId": "73863347-1d36-42f0-e981-ebc39d49ea83"
      },
      "outputs": [
        {
          "output_type": "display_data",
          "data": {
            "text/plain": [
              "<Figure size 640x480 with 1 Axes>"
            ],
            "image/png": "[encoded data removed]"
          },
          "metadata": {}
        }
      ],
      "source": [
        "# New distribution of categorized qualities\n",
        "\n",
        "plt.pie(df.quality.value_counts(), labels=df.quality.unique())\n",
        "plt.legend()\n",
        "plt.show()"
      ]
    },
    {
      "cell_type": "markdown",
      "metadata": {
        "id": "BiNtiLnM3OyU"
      },
      "source": [
        "It still appears that there are a large amount of 2s present.  This is because, in the real world, high quality wines are much rarer than poor quality or medium quality wines.  As a result, this distribution can be considered fair and representative for the rest of our analysis."
      ]
    },
    {
      "cell_type": "code",
      "execution_count": 13,
      "metadata": {
        "id": "cxW9sx4ipA5X",
        "colab": {
          "base_uri": "https://localhost:8080/",
          "height": 507
        },
        "outputId": "45293809-8b1d-4048-bbe6-a04250132365"
      },
      "outputs": [
        {
          "output_type": "stream",
          "name": "stderr",
          "text": [
            "<ipython-input-13-4228ca653079>:5: FutureWarning: The default value of numeric_only in DataFrame.corr is deprecated. In a future version, it will default to False. Select only valid columns or specify the value of numeric_only to silence this warning.\n",
            "  sns.heatmap(df.corr()[['quality']].sort_values(by='quality',ascending=False),vmin=-.5,vmax=1,annot=True)\n"
          ]
        },
        {
          "output_type": "execute_result",
          "data": {
            "text/plain": [
              "<Axes: >"
            ]
          },
          "metadata": {},
          "execution_count": 13
        },
        {
          "output_type": "display_data",
          "data": {
            "text/plain": [
              "<Figure size 640x480 with 2 Axes>"
            ],
            "image/png": "[encoded data removed]"
          },
          "metadata": {}
        }
      ],
      "source": [
        "# Heatmap 2\n",
        "\n",
        "# Generate a heatmap showing the correlation between each attribute and the quality (to be predicted)\n",
        "\n",
        "sns.heatmap(df.corr()[['quality']].sort_values(by='quality',ascending=False),vmin=-.5,vmax=1,annot=True)"
      ]
    },
    {
      "cell_type": "markdown",
      "metadata": {
        "id": "dP-NgYB03jK9"
      },
      "source": [
        "This heatmap shows that alcohol percent and quality are the most strongly and positvely correlated, whereas factors like chlorides, volatile acidity, and density are more negatively correlated with quality. Overall, there was not a strong correlation between the other factors and quality.\n",
        "\n",
        "One noteworthy finding is that alcohol and density were the two factors that affected quality the most, although density had a negative correlation. For our regression model, we use alcohol and density as two primary factors."
      ]
    },
    {
      "cell_type": "markdown",
      "metadata": {
        "id": "x5MO09b436ON"
      },
      "source": [
        "### 1.2.4 Statistical Measures"
      ]
    },
    {
      "cell_type": "markdown",
      "metadata": {
        "id": "U1qXLhko4R3c"
      },
      "source": [
        "The following demonstrates counts, means, standard deviations, and five number summaries for each of the categories."
      ]
    },
    {
      "cell_type": "code",
      "execution_count": 14,
      "metadata": {
        "id": "JCshw1xr3_GN",
        "colab": {
          "base_uri": "https://localhost:8080/",
          "height": 320
        },
        "outputId": "5f6e78c7-c966-49b2-f99d-63eebfeaf3e5"
      },
      "outputs": [
        {
          "output_type": "execute_result",
          "data": {
            "text/plain": [
              "       fixed_acidity  volatile_acidity  citric_acid  residal_sugar  \\\n",
              "count    6497.000000       6497.000000  6497.000000    6497.000000   \n",
              "mean        7.215307          0.339666     0.318633       5.443235   \n",
              "std         1.296434          0.164636     0.145318       4.757804   \n",
              "min         3.800000          0.080000     0.000000       0.600000   \n",
              "25%         6.400000          0.230000     0.250000       1.800000   \n",
              "50%         7.000000          0.290000     0.310000       3.000000   \n",
              "75%         7.700000          0.400000     0.390000       8.100000   \n",
              "max        15.900000          1.580000     1.660000      65.800000   \n",
              "\n",
              "         chlorides  free_sulfur_dioxide  total_sulfur_dioxide      density  \\\n",
              "count  6497.000000          6497.000000           6497.000000  6497.000000   \n",
              "mean      0.056034            30.525319            115.744574     0.994697   \n",
              "std       0.035034            17.749400             56.521855     0.002999   \n",
              "min       0.009000             1.000000              6.000000     0.987110   \n",
              "25%       0.038000            17.000000             77.000000     0.992340   \n",
              "50%       0.047000            29.000000            118.000000     0.994890   \n",
              "75%       0.065000            41.000000            156.000000     0.996990   \n",
              "max       0.611000           289.000000            440.000000     1.038980   \n",
              "\n",
              "                pH    sulphates      alcohol      quality  \n",
              "count  6497.000000  6497.000000  6497.000000  6497.000000  \n",
              "mean      3.218501     0.531268    10.491801     1.663537  \n",
              "std       0.160787     0.148806     1.192712     0.533152  \n",
              "min       2.720000     0.220000     8.000000     1.000000  \n",
              "25%       3.110000     0.430000     9.500000     1.000000  \n",
              "50%       3.210000     0.510000    10.300000     2.000000  \n",
              "75%       3.320000     0.600000    11.300000     2.000000  \n",
              "max       4.010000     2.000000    14.900000     3.000000  "
            ],
            "text/html": [
              "\n",
              "  <div id=\"df-9d4143fd-3114-433e-ba76-ba0b83eb3cf8\" class=\"colab-df-container\">\n",
              "    <div>\n",
              "<style scoped>\n",
              "    .dataframe tbody tr th:only-of-type {\n",
              "        vertical-align: middle;\n",
              "    }\n",
              "\n",
              "    .dataframe tbody tr th {\n",
              "        vertical-align: top;\n",
              "    }\n",
              "\n",
              "    .dataframe thead th {\n",
              "        text-align: right;\n",
              "    }\n",
              "</style>\n",
              "<table border=\"1\" class=\"dataframe\">\n",
              "  <thead>\n",
              "    <tr style=\"text-align: right;\">\n",
              "      <th></th>\n",
              "      <th>fixed_acidity</th>\n",
              "      <th>volatile_acidity</th>\n",
              "      <th>citric_acid</th>\n",
              "      <th>residal_sugar</th>\n",
              "      <th>chlorides</th>\n",
              "      <th>free_sulfur_dioxide</th>\n",
              "      <th>total_sulfur_dioxide</th>\n",
              "      <th>density</th>\n",
              "      <th>pH</th>\n",
              "      <th>sulphates</th>\n",
              "      <th>alcohol</th>\n",
              "      <th>quality</th>\n",
              "    </tr>\n",
              "  </thead>\n",
              "  <tbody>\n",
              "    <tr>\n",
              "      <th>count</th>\n",
              "      <td>6497.000000</td>\n",
              "      <td>6497.000000</td>\n",
              "      <td>6497.000000</td>\n",
              "      <td>6497.000000</td>\n",
              "      <td>6497.000000</td>\n",
              "      <td>6497.000000</td>\n",
              "      <td>6497.000000</td>\n",
              "      <td>6497.000000</td>\n",
              "      <td>6497.000000</td>\n",
              "      <td>6497.000000</td>\n",
              "      <td>6497.000000</td>\n",
              "      <td>6497.000000</td>\n",
              "    </tr>\n",
              "    <tr>\n",
              "      <th>mean</th>\n",
              "      <td>7.215307</td>\n",
              "      <td>0.339666</td>\n",
              "      <td>0.318633</td>\n",
              "      <td>5.443235</td>\n",
              "      <td>0.056034</td>\n",
              "      <td>30.525319</td>\n",
              "      <td>115.744574</td>\n",
              "      <td>0.994697</td>\n",
              "      <td>3.218501</td>\n",
              "      <td>0.531268</td>\n",
              "      <td>10.491801</td>\n",
              "      <td>1.663537</td>\n",
              "    </tr>\n",
              "    <tr>\n",
              "      <th>std</th>\n",
              "      <td>1.296434</td>\n",
              "      <td>0.164636</td>\n",
              "      <td>0.145318</td>\n",
              "      <td>4.757804</td>\n",
              "      <td>0.035034</td>\n",
              "      <td>17.749400</td>\n",
              "      <td>56.521855</td>\n",
              "      <td>0.002999</td>\n",
              "      <td>0.160787</td>\n",
              "      <td>0.148806</td>\n",
              "      <td>1.192712</td>\n",
              "      <td>0.533152</td>\n",
              "    </tr>\n",
              "    <tr>\n",
              "      <th>min</th>\n",
              "      <td>3.800000</td>\n",
              "      <td>0.080000</td>\n",
              "      <td>0.000000</td>\n",
              "      <td>0.600000</td>\n",
              "      <td>0.009000</td>\n",
              "      <td>1.000000</td>\n",
              "      <td>6.000000</td>\n",
              "      <td>0.987110</td>\n",
              "      <td>2.720000</td>\n",
              "      <td>0.220000</td>\n",
              "      <td>8.000000</td>\n",
              "      <td>1.000000</td>\n",
              "    </tr>\n",
              "    <tr>\n",
              "      <th>25%</th>\n",
              "      <td>6.400000</td>\n",
              "      <td>0.230000</td>\n",
              "      <td>0.250000</td>\n",
              "      <td>1.800000</td>\n",
              "      <td>0.038000</td>\n",
              "      <td>17.000000</td>\n",
              "      <td>77.000000</td>\n",
              "      <td>0.992340</td>\n",
              "      <td>3.110000</td>\n",
              "      <td>0.430000</td>\n",
              "      <td>9.500000</td>\n",
              "      <td>1.000000</td>\n",
              "    </tr>\n",
              "    <tr>\n",
              "      <th>50%</th>\n",
              "      <td>7.000000</td>\n",
              "      <td>0.290000</td>\n",
              "      <td>0.310000</td>\n",
              "      <td>3.000000</td>\n",
              "      <td>0.047000</td>\n",
              "      <td>29.000000</td>\n",
              "      <td>118.000000</td>\n",
              "      <td>0.994890</td>\n",
              "      <td>3.210000</td>\n",
              "      <td>0.510000</td>\n",
              "      <td>10.300000</td>\n",
              "      <td>2.000000</td>\n",
              "    </tr>\n",
              "    <tr>\n",
              "      <th>75%</th>\n",
              "      <td>7.700000</td>\n",
              "      <td>0.400000</td>\n",
              "      <td>0.390000</td>\n",
              "      <td>8.100000</td>\n",
              "      <td>0.065000</td>\n",
              "      <td>41.000000</td>\n",
              "      <td>156.000000</td>\n",
              "      <td>0.996990</td>\n",
              "      <td>3.320000</td>\n",
              "      <td>0.600000</td>\n",
              "      <td>11.300000</td>\n",
              "      <td>2.000000</td>\n",
              "    </tr>\n",
              "    <tr>\n",
              "      <th>max</th>\n",
              "      <td>15.900000</td>\n",
              "      <td>1.580000</td>\n",
              "      <td>1.660000</td>\n",
              "      <td>65.800000</td>\n",
              "      <td>0.611000</td>\n",
              "      <td>289.000000</td>\n",
              "      <td>440.000000</td>\n",
              "      <td>1.038980</td>\n",
              "      <td>4.010000</td>\n",
              "      <td>2.000000</td>\n",
              "      <td>14.900000</td>\n",
              "      <td>3.000000</td>\n",
              "    </tr>\n",
              "  </tbody>\n",
              "</table>\n",
              "</div>\n",
              "    <div class=\"colab-df-buttons\">\n",
              "\n",
              "  <div class=\"colab-df-container\">\n",
              "    <button class=\"colab-df-convert\" onclick=\"convertToInteractive('df-9d4143fd-3114-433e-ba76-ba0b83eb3cf8')\"\n",
              "            title=\"Convert this dataframe to an interactive table.\"\n",
              "            style=\"display:none;\">\n",
              "\n",
              "  <svg xmlns=\"http://www.w3.org/2000/svg\" height=\"24px\" viewBox=\"0 -960 960 960\">\n",
              "    <path d=\"M120-120v-720h720v720H120Zm60-500h600v-160H180v160Zm220 220h160v-160H400v160Zm0 220h160v-160H400v160ZM180-400h160v-160H180v160Zm440 0h160v-160H620v160ZM180-180h160v-160H180v160Zm440 0h160v-160H620v160Z\"/>\n",
              "  </svg>\n",
              "    </button>\n",
              "\n",
              "  <style>\n",
              "    .colab-df-container {\n",
              "      display:flex;\n",
              "      gap: 12px;\n",
              "    }\n",
              "\n",
              "    .colab-df-convert {\n",
              "      background-color: #E8F0FE;\n",
              "      border: none;\n",
              "      border-radius: 50%;\n",
              "      cursor: pointer;\n",
              "      display: none;\n",
              "      fill: #1967D2;\n",
              "      height: 32px;\n",
              "      padding: 0 0 0 0;\n",
              "      width: 32px;\n",
              "    }\n",
              "\n",
              "    .colab-df-convert:hover {\n",
              "      background-color: #E2EBFA;\n",
              "      box-shadow: 0px 1px 2px rgba(60, 64, 67, 0.3), 0px 1px 3px 1px rgba(60, 64, 67, 0.15);\n",
              "      fill: #174EA6;\n",
              "    }\n",
              "\n",
              "    .colab-df-buttons div {\n",
              "      margin-bottom: 4px;\n",
              "    }\n",
              "\n",
              "    [theme=dark] .colab-df-convert {\n",
              "      background-color: #3B4455;\n",
              "      fill: #D2E3FC;\n",
              "    }\n",
              "\n",
              "    [theme=dark] .colab-df-convert:hover {\n",
              "      background-color: #434B5C;\n",
              "      box-shadow: 0px 1px 3px 1px rgba(0, 0, 0, 0.15);\n",
              "      filter: drop-shadow(0px 1px 2px rgba(0, 0, 0, 0.3));\n",
              "      fill: #FFFFFF;\n",
              "    }\n",
              "  </style>\n",
              "\n",
              "    <script>\n",
              "      const buttonEl =\n",
              "        document.querySelector('#df-9d4143fd-3114-433e-ba76-ba0b83eb3cf8 button.colab-df-convert');\n",
              "      buttonEl.style.display =\n",
              "        google.colab.kernel.accessAllowed ? 'block' : 'none';\n",
              "\n",
              "      async function convertToInteractive(key) {\n",
              "        const element = document.querySelector('#df-9d4143fd-3114-433e-ba76-ba0b83eb3cf8');\n",
              "        const dataTable =\n",
              "          await google.colab.kernel.invokeFunction('convertToInteractive',\n",
              "                                                    [key], {});\n",
              "        if (!dataTable) return;\n",
              "\n",
              "        const docLinkHtml = 'Like what you see? Visit the ' +\n",
              "          '<a target=\"_blank\" href=https://colab.research.google.com/notebooks/data_table.ipynb>data table notebook</a>'\n",
              "          + ' to learn more about interactive tables.';\n",
              "        element.innerHTML = '';\n",
              "        dataTable['output_type'] = 'display_data';\n",
              "        await google.colab.output.renderOutput(dataTable, element);\n",
              "        const docLink = document.createElement('div');\n",
              "        docLink.innerHTML = docLinkHtml;\n",
              "        element.appendChild(docLink);\n",
              "      }\n",
              "    </script>\n",
              "  </div>\n",
              "\n",
              "\n",
              "<div id=\"df-005e37b1-f7f6-4800-abab-9e43bd79f76a\">\n",
              "  <button class=\"colab-df-quickchart\" onclick=\"quickchart('df-005e37b1-f7f6-4800-abab-9e43bd79f76a')\"\n",
              "            title=\"Suggest charts\"\n",
              "            style=\"display:none;\">\n",
              "\n",
              "<svg xmlns=\"http://www.w3.org/2000/svg\" height=\"24px\"viewBox=\"0 0 24 24\"\n",
              "     width=\"24px\">\n",
              "    <g>\n",
              "        <path d=\"M19 3H5c-1.1 0-2 .9-2 2v14c0 1.1.9 2 2 2h14c1.1 0 2-.9 2-2V5c0-1.1-.9-2-2-2zM9 17H7v-7h2v7zm4 0h-2V7h2v10zm4 0h-2v-4h2v4z\"/>\n",
              "    </g>\n",
              "</svg>\n",
              "  </button>\n",
              "\n",
              "<style>\n",
              "  .colab-df-quickchart {\n",
              "      --bg-color: #E8F0FE;\n",
              "      --fill-color: #1967D2;\n",
              "      --hover-bg-color: #E2EBFA;\n",
              "      --hover-fill-color: #174EA6;\n",
              "      --disabled-fill-color: #AAA;\n",
              "      --disabled-bg-color: #DDD;\n",
              "  }\n",
              "\n",
              "  [theme=dark] .colab-df-quickchart {\n",
              "      --bg-color: #3B4455;\n",
              "      --fill-color: #D2E3FC;\n",
              "      --hover-bg-color: #434B5C;\n",
              "      --hover-fill-color: #FFFFFF;\n",
              "      --disabled-bg-color: #3B4455;\n",
              "      --disabled-fill-color: #666;\n",
              "  }\n",
              "\n",
              "  .colab-df-quickchart {\n",
              "    background-color: var(--bg-color);\n",
              "    border: none;\n",
              "    border-radius: 50%;\n",
              "    cursor: pointer;\n",
              "    display: none;\n",
              "    fill: var(--fill-color);\n",
              "    height: 32px;\n",
              "    padding: 0;\n",
              "    width: 32px;\n",
              "  }\n",
              "\n",
              "  .colab-df-quickchart:hover {\n",
              "    background-color: var(--hover-bg-color);\n",
              "    box-shadow: 0 1px 2px rgba(60, 64, 67, 0.3), 0 1px 3px 1px rgba(60, 64, 67, 0.15);\n",
              "    fill: var(--button-hover-fill-color);\n",
              "  }\n",
              "\n",
              "  .colab-df-quickchart-complete:disabled,\n",
              "  .colab-df-quickchart-complete:disabled:hover {\n",
              "    background-color: var(--disabled-bg-color);\n",
              "    fill: var(--disabled-fill-color);\n",
              "    box-shadow: none;\n",
              "  }\n",
              "\n",
              "  .colab-df-spinner {\n",
              "    border: 2px solid var(--fill-color);\n",
              "    border-color: transparent;\n",
              "    border-bottom-color: var(--fill-color);\n",
              "    animation:\n",
              "      spin 1s steps(1) infinite;\n",
              "  }\n",
              "\n",
              "  @keyframes spin {\n",
              "    0% {\n",
              "      border-color: transparent;\n",
              "      border-bottom-color: var(--fill-color);\n",
              "      border-left-color: var(--fill-color);\n",
              "    }\n",
              "    20% {\n",
              "      border-color: transparent;\n",
              "      border-left-color: var(--fill-color);\n",
              "      border-top-color: var(--fill-color);\n",
              "    }\n",
              "    30% {\n",
              "      border-color: transparent;\n",
              "      border-left-color: var(--fill-color);\n",
              "      border-top-color: var(--fill-color);\n",
              "      border-right-color: var(--fill-color);\n",
              "    }\n",
              "    40% {\n",
              "      border-color: transparent;\n",
              "      border-right-color: var(--fill-color);\n",
              "      border-top-color: var(--fill-color);\n",
              "    }\n",
              "    60% {\n",
              "      border-color: transparent;\n",
              "      border-right-color: var(--fill-color);\n",
              "    }\n",
              "    80% {\n",
              "      border-color: transparent;\n",
              "      border-right-color: var(--fill-color);\n",
              "      border-bottom-color: var(--fill-color);\n",
              "    }\n",
              "    90% {\n",
              "      border-color: transparent;\n",
              "      border-bottom-color: var(--fill-color);\n",
              "    }\n",
              "  }\n",
              "</style>\n",
              "\n",
              "  <script>\n",
              "    async function quickchart(key) {\n",
              "      const quickchartButtonEl =\n",
              "        document.querySelector('#' + key + ' button');\n",
              "      quickchartButtonEl.disabled = true;  // To prevent multiple clicks.\n",
              "      quickchartButtonEl.classList.add('colab-df-spinner');\n",
              "      try {\n",
              "        const charts = await google.colab.kernel.invokeFunction(\n",
              "            'suggestCharts', [key], {});\n",
              "      } catch (error) {\n",
              "        console.error('Error during call to suggestCharts:', error);\n",
              "      }\n",
              "      quickchartButtonEl.classList.remove('colab-df-spinner');\n",
              "      quickchartButtonEl.classList.add('colab-df-quickchart-complete');\n",
              "    }\n",
              "    (() => {\n",
              "      let quickchartButtonEl =\n",
              "        document.querySelector('#df-005e37b1-f7f6-4800-abab-9e43bd79f76a button');\n",
              "      quickchartButtonEl.style.display =\n",
              "        google.colab.kernel.accessAllowed ? 'block' : 'none';\n",
              "    })();\n",
              "  </script>\n",
              "</div>\n",
              "\n",
              "    </div>\n",
              "  </div>\n"
            ],
            "application/vnd.google.colaboratory.intrinsic+json": {
              "type": "dataframe",
              "summary": "{\n  \"name\": \"df\",\n  \"rows\": 8,\n  \"fields\": [\n    {\n      \"column\": \"fixed_acidity\",\n      \"properties\": {\n        \"dtype\": \"number\",\n        \"std\": 2294.5495843533386,\n        \"min\": 1.2964337577998155,\n        \"max\": 6497.0,\n        \"num_unique_values\": 8,\n        \"samples\": [\n          7.215307064799138,\n          7.0,\n          6497.0\n        ],\n        \"semantic_type\": \"\",\n        \"description\": \"\"\n      }\n    },\n    {\n      \"column\": \"volatile_acidity\",\n      \"properties\": {\n        \"dtype\": \"number\",\n        \"std\": 2296.8806471221515,\n        \"min\": 0.08,\n        \"max\": 6497.0,\n        \"num_unique_values\": 8,\n        \"samples\": [\n          0.33966599969216565,\n          0.29,\n          6497.0\n        ],\n        \"semantic_type\": \"\",\n        \"description\": \"\"\n      }\n    },\n    {\n      \"column\": \"citric_acid\",\n      \"properties\": {\n        \"dtype\": \"number\",\n        \"std\": 2296.88117790051,\n        \"min\": 0.0,\n        \"max\": 6497.0,\n        \"num_unique_values\": 8,\n        \"samples\": [\n          0.3186332153301524,\n          0.31,\n          6497.0\n        ],\n        \"semantic_type\": \"\",\n        \"description\": \"\"\n      }\n    },\n    {\n      \"column\": \"residal_sugar\",\n      \"properties\": {\n        \"dtype\": \"number\",\n        \"std\": 2292.6192015521087,\n        \"min\": 0.6,\n        \"max\": 6497.0,\n        \"num_unique_values\": 8,\n        \"samples\": [\n          5.443235339387409,\n          3.0,\n          6497.0\n        ],\n        \"semantic_type\": \"\",\n        \"description\": \"\"\n      }\n    },\n    {\n      \"column\": \"chlorides\",\n      \"properties\": {\n        \"dtype\": \"number\",\n        \"std\": 2296.9928969086163,\n        \"min\": 0.009,\n        \"max\": 6497.0,\n        \"num_unique_values\": 8,\n        \"samples\": [\n          0.05603386178236109,\n          0.047,\n          6497.0\n        ],\n        \"semantic_type\": \"\",\n        \"description\": \"\"\n      }\n    },\n    {\n      \"column\": \"free_sulfur_dioxide\",\n      \"properties\": {\n        \"dtype\": \"number\",\n        \"std\": 2277.4940152153513,\n        \"min\": 1.0,\n        \"max\": 6497.0,\n        \"num_unique_values\": 8,\n        \"samples\": [\n          30.525319378174544,\n          29.0,\n          6497.0\n        ],\n        \"semantic_type\": \"\",\n        \"description\": \"\"\n      }\n    },\n    {\n      \"column\": \"total_sulfur_dioxide\",\n      \"properties\": {\n        \"dtype\": \"number\",\n        \"std\": 2251.897096356555,\n        \"min\": 6.0,\n        \"max\": 6497.0,\n        \"num_unique_values\": 8,\n        \"samples\": [\n          115.7445744189626,\n          118.0,\n          6497.0\n        ],\n        \"semantic_type\": \"\",\n        \"description\": \"\"\n      }\n    },\n    {\n      \"column\": \"density\",\n      \"properties\": {\n        \"dtype\": \"number\",\n        \"std\": 2296.732955190115,\n        \"min\": 0.002998673003719039,\n        \"max\": 6497.0,\n        \"num_unique_values\": 8,\n        \"samples\": [\n          0.9946966338309989,\n          0.99489,\n          6497.0\n        ],\n        \"semantic_type\": \"\",\n        \"description\": \"\"\n      }\n    },\n    {\n      \"column\": \"pH\",\n      \"properties\": {\n        \"dtype\": \"number\",\n        \"std\": 2296.039173424216,\n        \"min\": 0.16078720210398764,\n        \"max\": 6497.0,\n        \"num_unique_values\": 8,\n        \"samples\": [\n          3.2185008465445586,\n          3.21,\n          6497.0\n        ],\n        \"semantic_type\": \"\",\n        \"description\": \"\"\n      }\n    },\n    {\n      \"column\": \"sulphates\",\n      \"properties\": {\n        \"dtype\": \"number\",\n        \"std\": 2296.812193891682,\n        \"min\": 0.14880587361449027,\n        \"max\": 6497.0,\n        \"num_unique_values\": 8,\n        \"samples\": [\n          0.5312682776666153,\n          0.51,\n          6497.0\n        ],\n        \"semantic_type\": \"\",\n        \"description\": \"\"\n      }\n    },\n    {\n      \"column\": \"alcohol\",\n      \"properties\": {\n        \"dtype\": \"number\",\n        \"std\": 2293.7220855129385,\n        \"min\": 1.192711748870993,\n        \"max\": 6497.0,\n        \"num_unique_values\": 8,\n        \"samples\": [\n          10.491800831152842,\n          10.3,\n          6497.0\n        ],\n        \"semantic_type\": \"\",\n        \"description\": \"\"\n      }\n    },\n    {\n      \"column\": \"quality\",\n      \"properties\": {\n        \"dtype\": \"number\",\n        \"std\": 2296.470989348306,\n        \"min\": 0.5331515763343597,\n        \"max\": 6497.0,\n        \"num_unique_values\": 6,\n        \"samples\": [\n          6497.0,\n          1.6635370170848083,\n          3.0\n        ],\n        \"semantic_type\": \"\",\n        \"description\": \"\"\n      }\n    }\n  ]\n}"
            }
          },
          "metadata": {},
          "execution_count": 14
        }
      ],
      "source": [
        "df.describe()"
      ]
    },
    {
      "cell_type": "markdown",
      "metadata": {
        "id": "KOOlkPcWjygY"
      },
      "source": [
        "### 1.2.5 Training and Test Split"
      ]
    },
    {
      "cell_type": "markdown",
      "metadata": {
        "id": "gNu4oApXuone"
      },
      "source": [
        "We will perform training and test splits in subsequent analysis, as we will need to perform this function for multiple columns.\n",
        "\n",
        "For the rest of this report, we will separate 80% of the data for training and 20% for testing.  This ensures that we don't run into issues of overfitting and underfitting.  Sectioning off 80% of the data for training is wholly representative of the data, and having 20% of the data be tested ensures that there is enough variety in the results."
      ]
    },
    {
      "cell_type": "markdown",
      "metadata": {
        "id": "u95gsCLfkM9U"
      },
      "source": [
        "# 2. Modeling"
      ]
    },
    {
      "cell_type": "markdown",
      "metadata": {
        "id": "z5xUKDVOkPJI"
      },
      "source": [
        "## 2.1 Custom Regression Classifier"
      ]
    },
    {
      "cell_type": "markdown",
      "source": [
        "### 2.1.1 Binary Regression Classifier"
      ],
      "metadata": {
        "id": "q7kYeS8kTaF6"
      }
    },
    {
      "cell_type": "markdown",
      "source": [
        "The following section uses the class Regression code as a basis to define our own custom regression model."
      ],
      "metadata": {
        "id": "1Vc4bqI5TQp8"
      }
    },
    {
      "cell_type": "code",
      "execution_count": 15,
      "metadata": {
        "id": "yb1dSxqJ1-OC",
        "colab": {
          "base_uri": "https://localhost:8080/"
        },
        "outputId": "361b5d86-b397-4b3b-aa6e-a12e2abcdd63"
      },
      "outputs": [
        {
          "output_type": "stream",
          "name": "stdout",
          "text": [
            "Base Binary Logistic Regression Object, Not Trainable\n"
          ]
        }
      ],
      "source": [
        "\n",
        "# Used class code of binary logistic regression base\n",
        "\n",
        "class BinaryLogisticRegressionBase:\n",
        "    # private:\n",
        "    def __init__(self, eta, iterations=20):\n",
        "        self.eta = eta\n",
        "        self.iters = iterations\n",
        "        # internally we will store the weights as self.w_ to keep with sklearn conventions\n",
        "\n",
        "    def __str__(self):\n",
        "        return 'Base Binary Logistic Regression Object, Not Trainable'\n",
        "\n",
        "    # convenience, private and static:\n",
        "    @staticmethod\n",
        "    def _sigmoid(theta):\n",
        "        return 1/(1+np.exp(-theta))\n",
        "\n",
        "    @staticmethod\n",
        "    def _add_intercept(X):\n",
        "        return np.hstack((np.ones((X.shape[0],1)),X)) # add bias term\n",
        "\n",
        "    # public:\n",
        "    def predict_proba(self, X, add_intercept=True):\n",
        "        # add bias term if requested\n",
        "        Xb = self._add_intercept(X) if add_intercept else X\n",
        "        return self._sigmoid(Xb @ self.w_) # return the probability y=1\n",
        "\n",
        "    def predict(self,X):\n",
        "        return (self.predict_proba(X)>0.5) #return the actual prediction\n",
        "\n",
        "\n",
        "blr = BinaryLogisticRegressionBase(0.1)\n",
        "print(blr)"
      ]
    },
    {
      "cell_type": "code",
      "execution_count": 16,
      "metadata": {
        "id": "CczLCbIX2CVH",
        "colab": {
          "base_uri": "https://localhost:8080/"
        },
        "outputId": "d5d0214a-8916-4140-db81-ed7d9bc8b11e"
      },
      "outputs": [
        {
          "output_type": "stream",
          "name": "stdout",
          "text": [
            "Untrained Binary Logistic Regression Object\n"
          ]
        }
      ],
      "source": [
        "\n",
        "# Used class code of binary logistic regression\n",
        "\n",
        "class BinaryLogisticRegression(BinaryLogisticRegressionBase):\n",
        "    #private:\n",
        "    def __str__(self):\n",
        "        if(hasattr(self,'w_')):\n",
        "            return 'Binary Logistic Regression Object with coefficients:\\n'+ str(self.w_) # is we have trained the object\n",
        "        else:\n",
        "            return 'Untrained Binary Logistic Regression Object'\n",
        "\n",
        "    def _get_gradient(self,X,y):\n",
        "        # programming \\sum_i (yi-g(xi))xi\n",
        "        gradient = np.zeros(self.w_.shape) # set gradient to zero\n",
        "        for (xi,yi) in zip(X,y):\n",
        "            # the actual update inside of sum\n",
        "            gradi = (yi - self.predict_proba(xi,add_intercept=False))*xi\n",
        "            # reshape to be column vector and add to gradient\n",
        "            gradient += gradi.reshape(self.w_.shape)\n",
        "\n",
        "        return gradient/float(len(y))\n",
        "\n",
        "    # public:\n",
        "    def fit(self, X, y):\n",
        "        Xb = self._add_intercept(X) # add bias term\n",
        "        num_samples, num_features = Xb.shape\n",
        "\n",
        "        self.w_ = np.zeros((num_features,1)) # init weight vector to zeros\n",
        "\n",
        "        # for as many as the max iterations\n",
        "        for _ in range(self.iters):\n",
        "            gradient = self._get_gradient(Xb,y)\n",
        "            self.w_ += gradient*self.eta # multiply by learning rate\n",
        "\n",
        "\n",
        "blr = BinaryLogisticRegression(0.1)\n",
        "\n",
        "params = dict(eta=0.01,\n",
        "              iterations=500)\n",
        "\n",
        "blr = BinaryLogisticRegression(**params)\n",
        "print(blr)"
      ]
    },
    {
      "cell_type": "code",
      "execution_count": 17,
      "metadata": {
        "id": "Ubn4Mro_2Hnh"
      },
      "outputs": [],
      "source": [
        "# Used class code to vectorize the binary logistic regression\n",
        "\n",
        "from scipy.special import expit\n",
        "\n",
        "class VectorBinaryLogisticRegression(BinaryLogisticRegression):\n",
        "    # inherit from our previous class to get same functionality\n",
        "    @staticmethod\n",
        "    def _sigmoid(theta):\n",
        "        # increase stability, redefine sigmoid operation\n",
        "        return expit(theta) #1/(1+np.exp(-theta))\n",
        "\n",
        "    # but overwrite the gradient calculation\n",
        "    def _get_gradient(self,X,y):\n",
        "        ydiff = y-self.predict_proba(X,add_intercept=False).ravel() # get y difference\n",
        "        gradient = np.mean(X * ydiff[:,np.newaxis], axis=0) # make ydiff a column vector and multiply through\n",
        "\n",
        "        return gradient.reshape(self.w_.shape)\n",
        "\n",
        "# use same params as defined above\n",
        "blr = VectorBinaryLogisticRegression(**params)\n"
      ]
    },
    {
      "cell_type": "markdown",
      "source": [
        "### 2.1.2 Multi-class Regression Classifier"
      ],
      "metadata": {
        "id": "nz74Hc3wTjIY"
      }
    },
    {
      "cell_type": "code",
      "execution_count": 18,
      "metadata": {
        "id": "hWW4oyM30RAf",
        "colab": {
          "base_uri": "https://localhost:8080/"
        },
        "outputId": "e87dbef7-efee-4c90-e0b4-f5151f8b5b32"
      },
      "outputs": [
        {
          "output_type": "stream",
          "name": "stdout",
          "text": [
            "Untrained MultiClass Logistic Regression Object\n"
          ]
        }
      ],
      "source": [
        "# Used class code to construct the multi-class logistic regression, which built from binary logistic regression\n",
        "\n",
        "class OtherLogisticRegression:\n",
        "    def __init__(self, eta, iterations=20):\n",
        "        self.eta = eta\n",
        "        self.iters = iterations\n",
        "        # internally we will store the weights as self.w_ to keep with sklearn conventions\n",
        "\n",
        "    def __str__(self):\n",
        "        if(hasattr(self,'w_')):\n",
        "            return 'MultiClass Logistic Regression Object with coefficients:\\n'+ str(self.w_) # is we have trained the object\n",
        "        else:\n",
        "            return 'Untrained MultiClass Logistic Regression Object'\n",
        "\n",
        "    def fit(self,X,y):\n",
        "        num_samples, num_features = X.shape\n",
        "        self.unique_ = np.unique(y) # get each unique class value\n",
        "        num_unique_classes = len(self.unique_)\n",
        "        self.classifiers_ = [] # will fill this array with binary classifiers\n",
        "\n",
        "        for i,yval in enumerate(self.unique_): # for each unique value\n",
        "            y_binary = (y==yval) # create a binary problem\n",
        "            # train the binary classifier for this class\n",
        "            blr = VectorBinaryLogisticRegression(self.eta,\n",
        "                                                 self.iters)\n",
        "            blr.fit(X,y_binary)\n",
        "            # add the trained classifier to the list\n",
        "            self.classifiers_.append(blr)\n",
        "\n",
        "        # save all the weights into one matrix, separate column for each class\n",
        "        self.w_ = np.hstack([x.w_ for x in self.classifiers_]).T\n",
        "\n",
        "    def predict_proba(self,X):\n",
        "        probs = []\n",
        "        for blr in self.classifiers_:\n",
        "            probs.append(blr.predict_proba(X)) # get probability for each classifier\n",
        "\n",
        "        return np.hstack(probs) # make into single matrix\n",
        "\n",
        "    def predict(self,X):\n",
        "        return self.unique_[np.argmax(self.predict_proba(X),axis=1)] # take argmax along row\n",
        "\n",
        "lr = OtherLogisticRegression(0.1,1500)\n",
        "print(lr)"
      ]
    },
    {
      "cell_type": "code",
      "execution_count": 19,
      "metadata": {
        "id": "ZYkob0HB1Haa"
      },
      "outputs": [],
      "source": [
        "# Function to run logistic regression with our custom implementation\n",
        "def other_calc_regression_custom(column_name, accuracies):\n",
        "  X = np.array(df[column_name])\n",
        "  X = X.reshape(-1,1)\n",
        "  Y = df.quality\n",
        "\n",
        "  # Train-test split of data as described above\n",
        "  X_train, X_test, y_train, y_test = train_test_split(X,Y, train_size = 0.8, test_size=0.2)\n",
        "\n",
        "  lr = OtherLogisticRegression(0.1,500)\n",
        "  lr.fit(X_train,y_train)\n",
        "\n",
        "  yhat = lr.predict(X_test)\n",
        "  accuracies.append(accuracy_score(y_test,yhat))\n",
        "  #print(f\"Accuracy of {column_name} to quality: {accuracy_score(y_test,yhat)}\")"
      ]
    },
    {
      "cell_type": "markdown",
      "source": [
        "### 2.1.3 Executing Custom Regression Model"
      ],
      "metadata": {
        "id": "vYpoO4WrTpzi"
      }
    },
    {
      "cell_type": "code",
      "execution_count": 20,
      "metadata": {
        "id": "pBAwnW-jprQx",
        "colab": {
          "base_uri": "https://localhost:8080/"
        },
        "outputId": "deb00394-f5ff-4467-8c1f-58d878107a5f"
      },
      "outputs": [
        {
          "output_type": "stream",
          "name": "stderr",
          "text": [
            "<ipython-input-17-ffef3549530f>:15: FutureWarning: Support for multi-dimensional indexing (e.g. `obj[:, None]`) is deprecated and will be removed in a future version.  Convert to a numpy array before indexing instead.\n",
            "  gradient = np.mean(X * ydiff[:,np.newaxis], axis=0) # make ydiff a column vector and multiply through\n"
          ]
        },
        {
          "output_type": "stream",
          "name": "stdout",
          "text": [
            "\n"
          ]
        },
        {
          "output_type": "stream",
          "name": "stderr",
          "text": [
            "<ipython-input-17-ffef3549530f>:15: FutureWarning: Support for multi-dimensional indexing (e.g. `obj[:, None]`) is deprecated and will be removed in a future version.  Convert to a numpy array before indexing instead.\n",
            "  gradient = np.mean(X * ydiff[:,np.newaxis], axis=0) # make ydiff a column vector and multiply through\n"
          ]
        },
        {
          "output_type": "stream",
          "name": "stdout",
          "text": [
            "\n"
          ]
        },
        {
          "output_type": "stream",
          "name": "stderr",
          "text": [
            "<ipython-input-17-ffef3549530f>:15: FutureWarning: Support for multi-dimensional indexing (e.g. `obj[:, None]`) is deprecated and will be removed in a future version.  Convert to a numpy array before indexing instead.\n",
            "  gradient = np.mean(X * ydiff[:,np.newaxis], axis=0) # make ydiff a column vector and multiply through\n"
          ]
        },
        {
          "output_type": "stream",
          "name": "stdout",
          "text": [
            "\n"
          ]
        },
        {
          "output_type": "stream",
          "name": "stderr",
          "text": [
            "<ipython-input-17-ffef3549530f>:15: FutureWarning: Support for multi-dimensional indexing (e.g. `obj[:, None]`) is deprecated and will be removed in a future version.  Convert to a numpy array before indexing instead.\n",
            "  gradient = np.mean(X * ydiff[:,np.newaxis], axis=0) # make ydiff a column vector and multiply through\n"
          ]
        },
        {
          "output_type": "stream",
          "name": "stdout",
          "text": [
            "\n"
          ]
        },
        {
          "output_type": "stream",
          "name": "stderr",
          "text": [
            "<ipython-input-17-ffef3549530f>:15: FutureWarning: Support for multi-dimensional indexing (e.g. `obj[:, None]`) is deprecated and will be removed in a future version.  Convert to a numpy array before indexing instead.\n",
            "  gradient = np.mean(X * ydiff[:,np.newaxis], axis=0) # make ydiff a column vector and multiply through\n"
          ]
        },
        {
          "output_type": "stream",
          "name": "stdout",
          "text": [
            "\n"
          ]
        },
        {
          "output_type": "stream",
          "name": "stderr",
          "text": [
            "<ipython-input-17-ffef3549530f>:15: FutureWarning: Support for multi-dimensional indexing (e.g. `obj[:, None]`) is deprecated and will be removed in a future version.  Convert to a numpy array before indexing instead.\n",
            "  gradient = np.mean(X * ydiff[:,np.newaxis], axis=0) # make ydiff a column vector and multiply through\n"
          ]
        },
        {
          "output_type": "stream",
          "name": "stdout",
          "text": [
            "\n"
          ]
        },
        {
          "output_type": "stream",
          "name": "stderr",
          "text": [
            "<ipython-input-17-ffef3549530f>:15: FutureWarning: Support for multi-dimensional indexing (e.g. `obj[:, None]`) is deprecated and will be removed in a future version.  Convert to a numpy array before indexing instead.\n",
            "  gradient = np.mean(X * ydiff[:,np.newaxis], axis=0) # make ydiff a column vector and multiply through\n"
          ]
        },
        {
          "output_type": "stream",
          "name": "stdout",
          "text": [
            "\n"
          ]
        },
        {
          "output_type": "stream",
          "name": "stderr",
          "text": [
            "<ipython-input-17-ffef3549530f>:15: FutureWarning: Support for multi-dimensional indexing (e.g. `obj[:, None]`) is deprecated and will be removed in a future version.  Convert to a numpy array before indexing instead.\n",
            "  gradient = np.mean(X * ydiff[:,np.newaxis], axis=0) # make ydiff a column vector and multiply through\n"
          ]
        },
        {
          "output_type": "stream",
          "name": "stdout",
          "text": [
            "\n"
          ]
        },
        {
          "output_type": "stream",
          "name": "stderr",
          "text": [
            "<ipython-input-17-ffef3549530f>:15: FutureWarning: Support for multi-dimensional indexing (e.g. `obj[:, None]`) is deprecated and will be removed in a future version.  Convert to a numpy array before indexing instead.\n",
            "  gradient = np.mean(X * ydiff[:,np.newaxis], axis=0) # make ydiff a column vector and multiply through\n"
          ]
        },
        {
          "output_type": "stream",
          "name": "stdout",
          "text": [
            "\n"
          ]
        },
        {
          "output_type": "stream",
          "name": "stderr",
          "text": [
            "<ipython-input-17-ffef3549530f>:15: FutureWarning: Support for multi-dimensional indexing (e.g. `obj[:, None]`) is deprecated and will be removed in a future version.  Convert to a numpy array before indexing instead.\n",
            "  gradient = np.mean(X * ydiff[:,np.newaxis], axis=0) # make ydiff a column vector and multiply through\n"
          ]
        },
        {
          "output_type": "stream",
          "name": "stdout",
          "text": [
            "\n"
          ]
        },
        {
          "output_type": "stream",
          "name": "stderr",
          "text": [
            "<ipython-input-17-ffef3549530f>:15: FutureWarning: Support for multi-dimensional indexing (e.g. `obj[:, None]`) is deprecated and will be removed in a future version.  Convert to a numpy array before indexing instead.\n",
            "  gradient = np.mean(X * ydiff[:,np.newaxis], axis=0) # make ydiff a column vector and multiply through\n"
          ]
        },
        {
          "output_type": "stream",
          "name": "stdout",
          "text": [
            "\n"
          ]
        },
        {
          "output_type": "stream",
          "name": "stderr",
          "text": [
            "<ipython-input-17-ffef3549530f>:15: FutureWarning: Support for multi-dimensional indexing (e.g. `obj[:, None]`) is deprecated and will be removed in a future version.  Convert to a numpy array before indexing instead.\n",
            "  gradient = np.mean(X * ydiff[:,np.newaxis], axis=0) # make ydiff a column vector and multiply through\n"
          ]
        },
        {
          "output_type": "stream",
          "name": "stdout",
          "text": [
            "\n",
            "CPU times: user 15.5 s, sys: 15.8 s, total: 31.2 s\n",
            "Wall time: 29.3 s\n"
          ]
        }
      ],
      "source": [
        "%%time\n",
        "# Running logistic regression with our custom implementation\n",
        "custom_accuracies = [] # Store the accuracies in a list for comparison later\n",
        "\n",
        "# Iterate through each of the features\n",
        "for col in df.columns:\n",
        "    if col == 'color': # Ignore color as it's not a feature, according to the dataset documentation\n",
        "      continue\n",
        "    other_calc_regression_custom(col, custom_accuracies)\n",
        "    print()"
      ]
    },
    {
      "cell_type": "markdown",
      "metadata": {
        "id": "_5tc40C4A1cH"
      },
      "source": [
        "The training and classification time is roughly 20 seconds with our own implementation."
      ]
    },
    {
      "cell_type": "code",
      "execution_count": 21,
      "metadata": {
        "id": "FKle1gJQ5b9t",
        "colab": {
          "base_uri": "https://localhost:8080/"
        },
        "outputId": "06cfec65-c4e1-4f7c-b8a8-6c07b65432c2"
      },
      "outputs": [
        {
          "output_type": "stream",
          "name": "stdout",
          "text": [
            "Accuracy of fixed_acidity to quality: 0.5969230769230769\n",
            "\n",
            "Accuracy of volatile_acidity to quality: 0.6053846153846154\n",
            "\n",
            "Accuracy of citric_acid to quality: 0.6053846153846154\n",
            "\n",
            "Accuracy of residal_sugar to quality: 0.6092307692307692\n",
            "\n",
            "Accuracy of chlorides to quality: 0.5969230769230769\n",
            "\n",
            "Accuracy of free_sulfur_dioxide to quality: 0.5776923076923077\n",
            "\n",
            "Accuracy of total_sulfur_dioxide to quality: 0.3507692307692308\n",
            "\n",
            "Accuracy of density to quality: 0.61\n",
            "\n",
            "Accuracy of pH to quality: 0.5946153846153847\n",
            "\n",
            "Accuracy of sulphates to quality: 0.5915384615384616\n",
            "\n",
            "Accuracy of alcohol to quality: 0.35\n",
            "\n",
            "Accuracy of quality to quality: 0.9661538461538461\n",
            "\n"
          ]
        }
      ],
      "source": [
        "# Cleaner output\n",
        "\n",
        "for col in range(len(custom_accuracies)):\n",
        "    if col == 'color':\n",
        "      continue\n",
        "    print(f\"Accuracy of {df.columns[col]} to quality: {custom_accuracies[col]}\")\n",
        "    print()"
      ]
    },
    {
      "cell_type": "markdown",
      "source": [
        "## 2.2 Regularization"
      ],
      "metadata": {
        "id": "LTOBSWj0Eyb7"
      }
    },
    {
      "cell_type": "markdown",
      "source": [
        "The following section uses the class code as a template to implement our regularization algorithm."
      ],
      "metadata": {
        "id": "_EL8G_sJT4s5"
      }
    },
    {
      "cell_type": "code",
      "source": [
        "# linear boundaries visualization from sklearn documentation\n",
        "from matplotlib import pyplot as plt\n",
        "import copy\n",
        "%matplotlib inline\n",
        "plt.style.use('ggplot')\n",
        "\n",
        "def plot_decision_boundaries(lr,Xin,y,title=''):\n",
        "    # print('i Xin', type(Xin))\n",
        "    # print(Xin)\n",
        "    # print('Xin len: ', len(Xin))\n",
        "    Xb = copy.deepcopy(Xin)\n",
        "    # print('e Xin',type(Xin))\n",
        "    # print('Xb',type(Xb))\n",
        "    # print('y',type(y))\n",
        "\n",
        "    y_series = y.squeeze()\n",
        "    # print('y len: ', len(y_series))\n",
        "    # print('XB len: ', len(Xb))\n",
        "    lr.fit(Xb.iloc[:,:2],y_series) # train only on two features\n",
        "\n",
        "    h=0.01\n",
        "    # create a mesh to plot in\n",
        "    x_min, x_max = Xb.iloc[:, 0].min() - 1, Xb.iloc[:, 0].max() + 1\n",
        "    y_min, y_max = Xb.iloc[:, 1].min() - 1, Xb.iloc[:, 1].max() + 1\n",
        "    xx, yy = np.meshgrid(np.arange(x_min, x_max, h),\n",
        "                         np.arange(y_min, y_max, h))\n",
        "\n",
        "    # get prediction values\n",
        "    Z = lr.predict(np.c_[xx.ravel(), yy.ravel()])\n",
        "\n",
        "    # Put the result into a color plot\n",
        "    Z = Z.reshape(xx.shape)\n",
        "    plt.contourf(xx, yy, Z, cmap=plt.cm.Paired, alpha=0.5)\n",
        "\n",
        "    # Plot also the training points\n",
        "    # print('X', Xb.iloc[:, 0])\n",
        "    # print('Y', Xb.iloc[:, 1])\n",
        "\n",
        "    plt.scatter(Xb.iloc[:, 0], Xb.iloc[:, 1], c=df.quality, cmap=plt.cm.Paired)\n",
        "    plt.xlabel('Alcohol Concentration')\n",
        "    plt.ylabel('Wine Density')\n",
        "    plt.xlim(xx.min(), xx.max())\n",
        "    plt.ylim(.985, 1.005)\n",
        "    # plt.xticks(())\n",
        "    # plt.yticks(())\n",
        "    plt.title(title)\n",
        "    plt.show()\n",
        "\n",
        "\n",
        "lr = OtherLogisticRegression(0.1,1500) # this is still OUR LR implementation, not sklearn"
      ],
      "metadata": {
        "id": "bblinzXnMK5O"
      },
      "execution_count": 22,
      "outputs": []
    },
    {
      "cell_type": "code",
      "source": [
        "# Test plot_decision_boundaries\n",
        "%%time\n",
        "from ucimlrepo import fetch_ucirepo\n",
        "wine_quality = fetch_ucirepo(id=186)\n",
        "X = wine_quality.data.features\n",
        "X = np.asarray(X).reshape(-1,1)\n",
        "Y = df.quality\n",
        "\n",
        "test_df = pd.concat([df.alcohol, df.density], axis=1)\n",
        "print(test_df)\n",
        "print(df.quality)\n",
        "plot_decision_boundaries(lr, test_df, df.quality, title = 'Alcohol and Density Classification')"
      ],
      "metadata": {
        "colab": {
          "base_uri": "https://localhost:8080/",
          "height": 1000
        },
        "id": "dvVVSE5fAQWX",
        "outputId": "9517cdb7-72b1-40af-9844-77b459054f97"
      },
      "execution_count": 23,
      "outputs": [
        {
          "output_type": "stream",
          "name": "stdout",
          "text": [
            "      alcohol  density\n",
            "0         8.8  1.00100\n",
            "1         9.5  0.99400\n",
            "2        10.1  0.99510\n",
            "3         9.9  0.99560\n",
            "4         9.9  0.99560\n",
            "...       ...      ...\n",
            "6492     10.5  0.99490\n",
            "6493     11.2  0.99512\n",
            "6494     11.0  0.99574\n",
            "6495     10.2  0.99547\n",
            "6496     11.0  0.99549\n",
            "\n",
            "[6497 rows x 2 columns]\n",
            "0       2\n",
            "1       2\n",
            "2       2\n",
            "3       2\n",
            "4       2\n",
            "       ..\n",
            "6492    1\n",
            "6493    2\n",
            "6494    2\n",
            "6495    1\n",
            "6496    2\n",
            "Name: quality, Length: 6497, dtype: int64\n"
          ]
        },
        {
          "output_type": "stream",
          "name": "stderr",
          "text": [
            "<ipython-input-17-ffef3549530f>:15: FutureWarning: Support for multi-dimensional indexing (e.g. `obj[:, None]`) is deprecated and will be removed in a future version.  Convert to a numpy array before indexing instead.\n",
            "  gradient = np.mean(X * ydiff[:,np.newaxis], axis=0) # make ydiff a column vector and multiply through\n"
          ]
        },
        {
          "output_type": "display_data",
          "data": {
            "text/plain": [
              "<Figure size 640x480 with 1 Axes>"
            ],
            "image/png": "[encoded data removed]"
          },
          "metadata": {}
        },
        {
          "output_type": "stream",
          "name": "stdout",
          "text": [
            "CPU times: user 4.08 s, sys: 3.58 s, total: 7.66 s\n",
            "Wall time: 9.12 s\n"
          ]
        }
      ]
    },
    {
      "cell_type": "markdown",
      "source": [
        "The graph above shows the logistic regression function run for alcohol and density classifications. The color of the dot represents the quality of wine. The classification for this is a little bit unusual due to the nature of the dataset:\n",
        "- The sample size for quality rank 3 wine is notably smaller than the other qualities\n",
        "- The wine densities themselves were so close to each other, even though it had the highest correlation with quality; this makes the line look very straight because the graph range is so small\n",
        "\n",
        "Due to this, the regression model results are somewhat skewed and difficult to interpret. We conducted an analysis of the accuracies to better understand the two methods."
      ],
      "metadata": {
        "id": "Qvy4e3PnUFBn"
      }
    },
    {
      "cell_type": "code",
      "source": [
        "class RegularizedBinaryLogisticRegression(VectorBinaryLogisticRegression):\n",
        "    # extend init functions\n",
        "    def __init__(self, C=0.0, **kwds):\n",
        "        # need to add to the original initializer\n",
        "        self.C = C\n",
        "        # but keep other keywords\n",
        "        super().__init__(**kwds) # call parent initializer\n",
        "\n",
        "\n",
        "    # extend previous class to change functionality\n",
        "    def _get_gradient(self,X,y):\n",
        "        # call get gradient from previous class\n",
        "        gradient = super()._get_gradient(X,y)\n",
        "\n",
        "        # add in regularization (to all except bias term)\n",
        "        gradient[1:] += -2 * self.w_[1:] * self.C\n",
        "        return gradient"
      ],
      "metadata": {
        "id": "_yR9s7NmE4Gb"
      },
      "execution_count": 24,
      "outputs": []
    },
    {
      "cell_type": "code",
      "source": [
        "# now redefine the Logistic Regression Function where needed\n",
        "class RegularizedLogisticRegression(OtherLogisticRegression):\n",
        "    def __init__(self, C=0.0, **kwds):\n",
        "        # need to add to the original initializer\n",
        "        self.C = C\n",
        "        # but keep other keywords\n",
        "        super().__init__(**kwds) # call parent initializer\n",
        "\n",
        "    def fit(self,X,y):\n",
        "        num_samples, num_features = X.shape\n",
        "        self.unique_ = np.unique(y) # get each unique class value\n",
        "        num_unique_classes = len(self.unique_)\n",
        "        self.classifiers_ = [] # will fill this array with binary classifiers\n",
        "\n",
        "        for i,yval in enumerate(self.unique_): # for each unique value\n",
        "            y_binary = y==yval # create a binary problem\n",
        "            # train the binary classifier for this class\n",
        "            # now this has regularization built into it\n",
        "            blr = RegularizedBinaryLogisticRegression(eta=self.eta,\n",
        "                                                      iterations=self.iters,\n",
        "                                                      C=self.C)\n",
        "            blr.fit(X,y_binary)\n",
        "            # add the trained classifier to the list\n",
        "            self.classifiers_.append(blr)\n",
        "\n",
        "        # save all the weights into one matrix, separate column for each class\n",
        "        self.w_ = np.hstack([x.w_ for x in self.classifiers_]).T"
      ],
      "metadata": {
        "id": "W2hHVjY6GNtz"
      },
      "execution_count": 25,
      "outputs": []
    },
    {
      "cell_type": "code",
      "source": [
        "\n",
        "\n",
        "cost_vals = np.logspace(-3,1,15)\n",
        "def lr_explor(cost_idx):\n",
        "\n",
        "    # print(\"after reshape:\",X)\n",
        "    #Y = df.quality\n",
        "    C = -.1\n",
        "    lr_clf = RegularizedLogisticRegression(eta=0.1, iterations=2500, C=C) # get object\n",
        "\n",
        "    # print('TEST', type(C))\n",
        "    plot_decision_boundaries(lr_clf,test_df,Y,title=\"C=%.5f\"%(C))\n",
        "    plt.show()\n",
        "\n",
        "lr_explor(cost_idx = 1)"
      ],
      "metadata": {
        "id": "iu9bdf5KLyBU",
        "colab": {
          "base_uri": "https://localhost:8080/",
          "height": 532
        },
        "outputId": "0cf71bc5-6adb-4d9f-b2d5-d2ac33192301"
      },
      "execution_count": 26,
      "outputs": [
        {
          "output_type": "stream",
          "name": "stderr",
          "text": [
            "<ipython-input-17-ffef3549530f>:15: FutureWarning: Support for multi-dimensional indexing (e.g. `obj[:, None]`) is deprecated and will be removed in a future version.  Convert to a numpy array before indexing instead.\n",
            "  gradient = np.mean(X * ydiff[:,np.newaxis], axis=0) # make ydiff a column vector and multiply through\n"
          ]
        },
        {
          "output_type": "display_data",
          "data": {
            "text/plain": [
              "<Figure size 640x480 with 1 Axes>"
            ],
            "image/png": "[encoded data removed]"
          },
          "metadata": {}
        }
      ]
    },
    {
      "cell_type": "markdown",
      "source": [
        "For similar reasons, this graph's results are also skewed. Despite this, there are visible effects from the regularization of the regression model."
      ],
      "metadata": {
        "id": "hzMLHKNMWlh3"
      }
    },
    {
      "cell_type": "markdown",
      "metadata": {
        "id": "GwhUeOUwBO8l"
      },
      "source": [
        "## 2.3 Scikit-learn Regression"
      ]
    },
    {
      "cell_type": "markdown",
      "source": [
        "The next section uses Scikit-learn's built in regression model to classify the dataset."
      ],
      "metadata": {
        "id": "Dy5gd7XJWue9"
      }
    },
    {
      "cell_type": "code",
      "execution_count": 27,
      "metadata": {
        "id": "G2EXModXmFJr"
      },
      "outputs": [],
      "source": [
        "#function to calculate logistic regression for each feature using sci-kit learn\n",
        "def calc_regression(column_name, sk_accuracies):\n",
        "    X = np.array(df[column_name])\n",
        "    X = X.reshape(-1,1)\n",
        "    Y = df.quality\n",
        "\n",
        "    X_train, X_test, y_train, y_test = train_test_split(X,Y, train_size = 0.8, test_size=0.2)\n",
        "\n",
        "    lr_sk = SKLogisticRegression(solver='liblinear') #all params default\n",
        "\n",
        "    lr_sk.fit(X_train,y_train)\n",
        "    print(np.hstack((lr_sk.intercept_[:,np.newaxis],lr_sk.coef_)))\n",
        "    yhat = lr_sk.predict(X_test)\n",
        "    sk_accuracies.append(accuracy_score(y_test,yhat))\n",
        "    #print(f\"Accuracy of {column_name} to quality: {accuracy_score(y_test,yhat)}\")\n"
      ]
    },
    {
      "cell_type": "code",
      "execution_count": 28,
      "metadata": {
        "id": "0U6T33byswNe",
        "colab": {
          "base_uri": "https://localhost:8080/"
        },
        "outputId": "a65639a9-7f7d-4dfc-d175-a744ac4eefbb"
      },
      "outputs": [
        {
          "output_type": "stream",
          "name": "stdout",
          "text": [
            "[[-1.24176992  0.09574223]\n",
            " [ 0.90031971 -0.06628856]\n",
            " [-1.00114723 -0.35205415]]\n",
            "\n",
            "[[-1.72940562  3.39625263]\n",
            " [ 1.49877072 -3.1367177 ]\n",
            " [-2.88132006 -1.67787211]]\n",
            "\n",
            "[[-0.20869957 -1.06226587]\n",
            " [ 0.11718363  0.93622462]\n",
            " [-3.52125743  0.29454918]]\n",
            "\n",
            "[[-0.63411523  0.01458303]\n",
            " [ 0.49529848 -0.0129696 ]\n",
            " [-3.35133777 -0.01567456]]\n",
            "\n",
            "[[-0.930217    6.44231613]\n",
            " [ 0.74413974 -5.38066196]\n",
            " [-3.35198182 -2.20881502]]\n",
            "\n",
            "[[-0.36663461 -0.00566221]\n",
            " [ 0.29515933  0.00384641]\n",
            " [-3.7716975   0.00980686]]\n",
            "\n",
            "[[-7.74113192e-01  2.05637027e-03]\n",
            " [ 6.35214144e-01 -1.98986785e-03]\n",
            " [-3.38320970e+00 -4.37584974e-04]]\n",
            "\n",
            "[[-1.27555482  0.72933221]\n",
            " [ 1.01231736 -0.5989714 ]\n",
            " [-1.52097119 -1.90353965]]\n",
            "\n",
            "[[ 0.17150744 -0.22445853]\n",
            " [-0.0511581   0.1456493 ]\n",
            " [-1.69552742 -0.53692293]]\n",
            "\n",
            "[[-0.28994658 -0.48658339]\n",
            " [ 0.13703636  0.53787886]\n",
            " [-3.01385    -0.86801601]]\n",
            "\n",
            "[[ 7.50382249 -0.77968357]\n",
            " [-5.79103249  0.59742126]\n",
            " [-7.66537829  0.396859  ]]\n",
            "\n",
            "[[ 12.91727052  -8.9387374 ]\n",
            " [ -6.58507979   4.34587568]\n",
            " [-14.97334462   5.42564945]]\n",
            "\n",
            "CPU times: user 171 ms, sys: 1.81 ms, total: 172 ms\n",
            "Wall time: 175 ms\n"
          ]
        }
      ],
      "source": [
        "%%time\n",
        "#perform logistic regression for each feature\n",
        "\n",
        "sk_accuracies = [] # Store accuracies in a list for comparison later on\n",
        "\n",
        "# Iterate through all the features\n",
        "for col in df.columns:\n",
        "  if col == 'color': # Ignore color as it's not a feature, according to the dataset documentation\n",
        "    continue\n",
        "  calc_regression(col, sk_accuracies)\n",
        "  print()"
      ]
    },
    {
      "cell_type": "markdown",
      "metadata": {
        "id": "FS37nE4aA9PW"
      },
      "source": [
        "The training and classification time was roughly less than a second with the sci-kit model."
      ]
    },
    {
      "cell_type": "code",
      "execution_count": 29,
      "metadata": {
        "id": "xZeEHe6Q8F2U",
        "colab": {
          "base_uri": "https://localhost:8080/"
        },
        "outputId": "4f274c1e-5d35-49cb-e2da-b626cc054c3c"
      },
      "outputs": [
        {
          "output_type": "stream",
          "name": "stdout",
          "text": [
            "Accuracy of fixed_acidity to quality: 0.5969230769230769\n",
            "\n",
            "Accuracy of volatile_acidity to quality: 0.6253846153846154\n",
            "\n",
            "Accuracy of citric_acid to quality: 0.6061538461538462\n",
            "\n",
            "Accuracy of residal_sugar to quality: 0.5938461538461538\n",
            "\n",
            "Accuracy of chlorides to quality: 0.5861538461538461\n",
            "\n",
            "Accuracy of free_sulfur_dioxide to quality: 0.6061538461538462\n",
            "\n",
            "Accuracy of total_sulfur_dioxide to quality: 0.6130769230769231\n",
            "\n",
            "Accuracy of density to quality: 0.6015384615384616\n",
            "\n",
            "Accuracy of pH to quality: 0.6015384615384616\n",
            "\n",
            "Accuracy of sulphates to quality: 0.5961538461538461\n",
            "\n",
            "Accuracy of alcohol to quality: 0.66\n",
            "\n",
            "Accuracy of quality to quality: 0.9746153846153847\n",
            "\n"
          ]
        }
      ],
      "source": [
        "# Cleaner output\n",
        "\n",
        "for col in range(len(sk_accuracies)):\n",
        "    if col == 'color':\n",
        "      continue\n",
        "    print(f\"Accuracy of {df.columns[col]} to quality: {sk_accuracies[col]}\")\n",
        "    print()"
      ]
    },
    {
      "cell_type": "markdown",
      "source": [
        "The above are the accuracy of the sci-kit model when used to classify the quality of the wine based on each column of the dataset."
      ],
      "metadata": {
        "id": "4DmuKkPtW1QY"
      }
    },
    {
      "cell_type": "markdown",
      "metadata": {
        "id": "tvvaRGxykzGz"
      },
      "source": [
        "## 2.4 Comparison"
      ]
    },
    {
      "cell_type": "code",
      "execution_count": 30,
      "metadata": {
        "id": "c6cRvkpdlKVO",
        "colab": {
          "base_uri": "https://localhost:8080/"
        },
        "outputId": "321ac309-4eee-4818-814d-40ccd387e07a"
      },
      "outputs": [
        {
          "output_type": "stream",
          "name": "stdout",
          "text": [
            "Both regression models return the same accuracy for the feature fixed_acidity to quality at an accuracy of 59.692307692307686 %\n",
            "The difference was 0.0 %\n",
            "\n",
            "The sci-kit learn regression model returns a higher accuracy for the feature volatile_acidity to quality at an accuracy of 62.53846153846154 %\n",
            "The difference was 2.0000000000000018 %\n",
            "\n",
            "The sci-kit learn regression model returns a higher accuracy for the feature citric_acid to quality at an accuracy of 60.61538461538461 %\n",
            "The difference was 0.07692307692307443 %\n",
            "\n",
            "The custom regression model returns a higher accuracy for the feature residal_sugar to quality at an accuracy of 60.92307692307693 %\n",
            "The difference was 1.538461538461544 %\n",
            "\n",
            "The custom regression model returns a higher accuracy for the feature chlorides to quality at an accuracy of 59.692307692307686 %\n",
            "The difference was 1.0769230769230753 %\n",
            "\n",
            "The sci-kit learn regression model returns a higher accuracy for the feature free_sulfur_dioxide to quality at an accuracy of 60.61538461538461 %\n",
            "The difference was 2.8461538461538427 %\n",
            "\n",
            "The sci-kit learn regression model returns a higher accuracy for the feature total_sulfur_dioxide to quality at an accuracy of 61.30769230769231 %\n",
            "The difference was 26.23076923076923 %\n",
            "\n",
            "The custom regression model returns a higher accuracy for the feature density to quality at an accuracy of 61.0 %\n",
            "The difference was 0.8461538461538409 %\n",
            "\n",
            "The sci-kit learn regression model returns a higher accuracy for the feature pH to quality at an accuracy of 60.15384615384616 %\n",
            "The difference was 0.6923076923076921 %\n",
            "\n",
            "The sci-kit learn regression model returns a higher accuracy for the feature sulphates to quality at an accuracy of 59.61538461538461 %\n",
            "The difference was 0.4615384615384577 %\n",
            "\n",
            "The sci-kit learn regression model returns a higher accuracy for the feature alcohol to quality at an accuracy of 66.0 %\n",
            "The difference was 31.000000000000007 %\n",
            "\n",
            "The sci-kit learn regression model returns a higher accuracy for the feature quality to quality at an accuracy of 97.46153846153847 %\n",
            "The difference was 0.846153846153852 %\n",
            "\n"
          ]
        }
      ],
      "source": [
        "def comparisons(x):\n",
        "  col = df.columns[x]\n",
        "\n",
        "  if(custom_accuracies[x] > sk_accuracies[x]):\n",
        "    max = 'The custom regression model returns a higher accuracy'\n",
        "    acc = custom_accuracies[x]\n",
        "    low = sk_accuracies[x]\n",
        "  elif(custom_accuracies[x] < sk_accuracies[x]):\n",
        "    max = 'The sci-kit learn regression model returns a higher accuracy'\n",
        "    acc = sk_accuracies[x]\n",
        "    low = custom_accuracies[x]\n",
        "  else:\n",
        "    max = 'Both regression models return the same accuracy'\n",
        "    acc = custom_accuracies[x]\n",
        "    low = custom_accuracies[x]\n",
        "\n",
        "  print(max, 'for the feature', col, 'to quality at an accuracy of', acc*100, '%')\n",
        "  print('The difference was', (acc - low)*100, '%')\n",
        "\n",
        "\n",
        "for x in range(len(custom_accuracies)):\n",
        "  comparisons(x)\n",
        "  print()\n"
      ]
    },
    {
      "cell_type": "markdown",
      "source": [
        "The above is a summary of the difference in accuracy between the models. An analysis of these accuracies is done below (after the graph)."
      ],
      "metadata": {
        "id": "cs_J4BgbW-e7"
      }
    },
    {
      "cell_type": "code",
      "execution_count": 31,
      "metadata": {
        "id": "1xAXUDfO-5-d"
      },
      "outputs": [],
      "source": [
        "x_vals = []\n",
        "for x in range(len(custom_accuracies)):\n",
        "  x_vals.append(x + 1)"
      ]
    },
    {
      "cell_type": "code",
      "execution_count": 32,
      "metadata": {
        "id": "LvWJpFSQ_spN"
      },
      "outputs": [],
      "source": [
        "# Confirms lengths\n",
        "# print(len(x_vals))\n",
        "# print(len(custom_accuracies))\n",
        "# print(len(sk_accuracies))"
      ]
    },
    {
      "cell_type": "code",
      "execution_count": 33,
      "metadata": {
        "id": "WNilkWRg_yzd",
        "colab": {
          "base_uri": "https://localhost:8080/",
          "height": 453
        },
        "outputId": "a984ebc6-e300-4a21-f510-ec212f5610b0"
      },
      "outputs": [
        {
          "output_type": "display_data",
          "data": {
            "text/plain": [
              "<Figure size 640x480 with 1 Axes>"
            ],
            "image/png": "[encoded data removed]"
          },
          "metadata": {}
        }
      ],
      "source": [
        "plt.plot(x_vals, custom_accuracies, label = 'Custom model')\n",
        "plt.plot(x_vals, sk_accuracies, label = 'Sci-kit learn model')\n",
        "plt.title('Custom Regression vs Sci-kit Learn Model')\n",
        "plt.ylabel('Accuracy')\n",
        "plt.legend()\n",
        "plt.show()"
      ]
    },
    {
      "cell_type": "code",
      "source": [
        "# custom_accuracies\n",
        "# sk_accuracies\n",
        "fig, axes = plt.subplots(3, 4, figsize=(8,10))\n",
        "fig.suptitle('Accuracies by category')\n",
        "plt.subplots_adjust(hspace=.4)\n",
        "for i in range(len(x_vals)):\n",
        "  plt.ylim(0,1)\n",
        "  plt.subplot(3, 4, i+1)\n",
        "\n",
        "  accuracies = [custom_accuracies[i], sk_accuracies[i]]\n",
        "  sns.barplot(x=[0, 1], y=accuracies, palette='mako')\n",
        "\n",
        "  plt.title(df.columns[i])\n",
        "\n",
        "\n",
        "  plt.xticks(())\n",
        "\n",
        "plt.show()\n",
        "\n"
      ],
      "metadata": {
        "id": "DhH2xSV8hMUD",
        "colab": {
          "base_uri": "https://localhost:8080/",
          "height": 1000
        },
        "outputId": "e4481b31-2375-4df2-8d2d-d018f28d8673"
      },
      "execution_count": 34,
      "outputs": [
        {
          "output_type": "stream",
          "name": "stderr",
          "text": [
            "<ipython-input-34-52c9780498b6>:11: FutureWarning: \n",
            "\n",
            "Passing `palette` without assigning `hue` is deprecated and will be removed in v0.14.0. Assign the `x` variable to `hue` and set `legend=False` for the same effect.\n",
            "\n",
            "  sns.barplot(x=[0, 1], y=accuracies, palette='mako')\n",
            "<ipython-input-34-52c9780498b6>:11: FutureWarning: \n",
            "\n",
            "Passing `palette` without assigning `hue` is deprecated and will be removed in v0.14.0. Assign the `x` variable to `hue` and set `legend=False` for the same effect.\n",
            "\n",
            "  sns.barplot(x=[0, 1], y=accuracies, palette='mako')\n",
            "<ipython-input-34-52c9780498b6>:11: FutureWarning: \n",
            "\n",
            "Passing `palette` without assigning `hue` is deprecated and will be removed in v0.14.0. Assign the `x` variable to `hue` and set `legend=False` for the same effect.\n",
            "\n",
            "  sns.barplot(x=[0, 1], y=accuracies, palette='mako')\n",
            "<ipython-input-34-52c9780498b6>:11: FutureWarning: \n",
            "\n",
            "Passing `palette` without assigning `hue` is deprecated and will be removed in v0.14.0. Assign the `x` variable to `hue` and set `legend=False` for the same effect.\n",
            "\n",
            "  sns.barplot(x=[0, 1], y=accuracies, palette='mako')\n",
            "<ipython-input-34-52c9780498b6>:11: FutureWarning: \n",
            "\n",
            "Passing `palette` without assigning `hue` is deprecated and will be removed in v0.14.0. Assign the `x` variable to `hue` and set `legend=False` for the same effect.\n",
            "\n",
            "  sns.barplot(x=[0, 1], y=accuracies, palette='mako')\n",
            "<ipython-input-34-52c9780498b6>:11: FutureWarning: \n",
            "\n",
            "Passing `palette` without assigning `hue` is deprecated and will be removed in v0.14.0. Assign the `x` variable to `hue` and set `legend=False` for the same effect.\n",
            "\n",
            "  sns.barplot(x=[0, 1], y=accuracies, palette='mako')\n",
            "<ipython-input-34-52c9780498b6>:11: FutureWarning: \n",
            "\n",
            "Passing `palette` without assigning `hue` is deprecated and will be removed in v0.14.0. Assign the `x` variable to `hue` and set `legend=False` for the same effect.\n",
            "\n",
            "  sns.barplot(x=[0, 1], y=accuracies, palette='mako')\n",
            "<ipython-input-34-52c9780498b6>:11: FutureWarning: \n",
            "\n",
            "Passing `palette` without assigning `hue` is deprecated and will be removed in v0.14.0. Assign the `x` variable to `hue` and set `legend=False` for the same effect.\n",
            "\n",
            "  sns.barplot(x=[0, 1], y=accuracies, palette='mako')\n",
            "<ipython-input-34-52c9780498b6>:11: FutureWarning: \n",
            "\n",
            "Passing `palette` without assigning `hue` is deprecated and will be removed in v0.14.0. Assign the `x` variable to `hue` and set `legend=False` for the same effect.\n",
            "\n",
            "  sns.barplot(x=[0, 1], y=accuracies, palette='mako')\n",
            "<ipython-input-34-52c9780498b6>:11: FutureWarning: \n",
            "\n",
            "Passing `palette` without assigning `hue` is deprecated and will be removed in v0.14.0. Assign the `x` variable to `hue` and set `legend=False` for the same effect.\n",
            "\n",
            "  sns.barplot(x=[0, 1], y=accuracies, palette='mako')\n",
            "<ipython-input-34-52c9780498b6>:11: FutureWarning: \n",
            "\n",
            "Passing `palette` without assigning `hue` is deprecated and will be removed in v0.14.0. Assign the `x` variable to `hue` and set `legend=False` for the same effect.\n",
            "\n",
            "  sns.barplot(x=[0, 1], y=accuracies, palette='mako')\n",
            "<ipython-input-34-52c9780498b6>:11: FutureWarning: \n",
            "\n",
            "Passing `palette` without assigning `hue` is deprecated and will be removed in v0.14.0. Assign the `x` variable to `hue` and set `legend=False` for the same effect.\n",
            "\n",
            "  sns.barplot(x=[0, 1], y=accuracies, palette='mako')\n"
          ]
        },
        {
          "output_type": "display_data",
          "data": {
            "text/plain": [
              "<Figure size 800x1000 with 12 Axes>"
            ],
            "image/png": "[encoded data removed]"
          },
          "metadata": {}
        }
      ]
    },
    {
      "cell_type": "markdown",
      "metadata": {
        "id": "cw_QEmDm-upe"
      },
      "source": [
        "Overall, the models returned similar accuracies, but sci-kit learn returned mostly higher accuracy rates. It's clear that Sci-kit learn's implementation is more effective across the board; this is likely due to the complexity and effectiveness of the operations done within the library."
      ]
    },
    {
      "cell_type": "markdown",
      "metadata": {
        "id": "6Er0Gi6Ak6P4"
      },
      "source": [
        "# 3. Deployment"
      ]
    },
    {
      "cell_type": "markdown",
      "metadata": {
        "id": "giXjCzjfk98e"
      },
      "source": [
        "We would advise the implementation of the sci-kit learn regression model. While this report shows that both models returned similar levels of accuracy for many features of wine to the quality, the sci-kit learn model performed significantly faster. Our custom implementation took, on average, 20 seconds to train and test, whereas the sci-kit learn model only took less than a second. While 20 seconds does not appear to be that long, it shows that the custom implementation is computationally expensive, and for larger sets of data, or with more features, this method of logistic regression will take inordinate amounts of time. In addition, the sci-kit learn model requires less code, as many of the functions are already built into the tool. As a result, we reccomend using the sci-kit learn logistic regression model. There is some value in a custom regression model, if there was more advanced pre-processing required for a specific project. Beyond these niche circumstances, we overall advise that Sci-kit learn is a more effective tool for the majority of cases."
      ]
    },
    {
      "cell_type": "code",
      "source": [
        "!pip install nbconvert"
      ],
      "metadata": {
        "id": "4uQaSe9pYxnH"
      },
      "execution_count": null,
      "outputs": []
    },
    {
      "cell_type": "code",
      "source": [
        "!jupyter nbconvert --to html /content/ML-Labs/Lab3/Ml-Lab3.ipynb"
      ],
      "metadata": {
        "id": "EmJY3_j1Y1zh"
      },
      "execution_count": null,
      "outputs": []
    }
  ],
  "metadata": {
    "colab": {
      "provenance": []
    },
    "kernelspec": {
      "display_name": "Python 3",
      "name": "python3"
    },
    "language_info": {
      "name": "python"
    }
  },
  "nbformat": 4,
  "nbformat_minor": 0
}