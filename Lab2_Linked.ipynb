{
  "nbformat": 4,
  "nbformat_minor": 0,
  "metadata": {
    "colab": {
      "provenance": [],
      "authorship_tag": "ABX9TyNH7idWIj9RUB3bm2nV4v38",
      "include_colab_link": true
    },
    "kernelspec": {
      "name": "python3",
      "display_name": "Python 3"
    },
    "language_info": {
      "name": "python"
    }
  },
  "cells": [
    {
      "cell_type": "markdown",
      "metadata": {
        "id": "view-in-github",
        "colab_type": "text"
      },
      "source": [
        "<a href=\"https://colab.research.google.com/github/AyawnKhan/ML-Labs/blob/main/Lab2_Linked.ipynb\" target=\"_parent\"><img src=\"https://colab.research.google.com/assets/colab-badge.svg\" alt=\"Open In Colab\"/></a>"
      ]
    },
    {
      "cell_type": "code",
      "execution_count": 2,
      "metadata": {
        "colab": {
          "base_uri": "https://localhost:8080/"
        },
        "id": "UiuvqD5YkI-x",
        "outputId": "a9039d9e-71b4-4e11-b5d5-abbb0991a016"
      },
      "outputs": [
        {
          "output_type": "stream",
          "name": "stdout",
          "text": [
            "Cloning into 'ML-Labs'...\n",
            "remote: Enumerating objects: 6798, done.\u001b[K\n",
            "remote: Counting objects: 100% (105/105), done.\u001b[K\n",
            "remote: Compressing objects: 100% (63/63), done.\u001b[K\n",
            "remote: Total 6798 (delta 42), reused 99 (delta 38), pack-reused 6693\u001b[K\n",
            "Receiving objects: 100% (6798/6798), 572.47 MiB | 29.20 MiB/s, done.\n",
            "Resolving deltas: 100% (213/213), done.\n",
            "Updating files: 100% (6873/6873), done.\n"
          ]
        }
      ],
      "source": [
        "!git clone https://github.com/AyawnKhan/ML-Labs.git"
      ]
    }
  ]
}